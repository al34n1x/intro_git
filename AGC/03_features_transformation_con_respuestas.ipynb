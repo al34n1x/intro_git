{
  "nbformat": 4,
  "nbformat_minor": 0,
  "metadata": {
    "colab": {
      "name": "03_features_transformation_con_respuestas.ipynb",
      "provenance": [],
      "include_colab_link": true
    },
    "kernelspec": {
      "name": "python3",
      "display_name": "Python 3"
    }
  },
  "cells": [
    {
      "cell_type": "markdown",
      "metadata": {
        "id": "view-in-github",
        "colab_type": "text"
      },
      "source": [
        "<a href=\"https://colab.research.google.com/github/al34n1x/DataScience/blob/master/8.Machine_Learning/03_features_transformation_con_respuestas.ipynb\" target=\"_parent\"><img src=\"https://colab.research.google.com/assets/colab-badge.svg\" alt=\"Open In Colab\"/></a>"
      ]
    },
    {
      "cell_type": "markdown",
      "metadata": {
        "id": "ouEcwK5gantD"
      },
      "source": [
        "\n",
        "\n",
        "# Transformación de variables"
      ]
    },
    {
      "cell_type": "markdown",
      "metadata": {
        "id": "lDRcbEWlantD"
      },
      "source": [
        "\n",
        "\n",
        "# Reescalado de variables\n",
        "\n",
        "Reescalar consiste en ajustar los datos a una escala determinada, con unos límites superior e inferior. Una de escalas más usadas es la minmax, en la que se escalan los valores mediante la siguiente expresión.\n",
        "\n",
        "\n"
      ]
    },
    {
      "cell_type": "markdown",
      "metadata": {
        "id": "Lqf07nmbantG"
      },
      "source": [
        "\n",
        "\n",
        "\\begin{equation}\n",
        "Z = \\frac{x - min(x)}{max(x) - min(x)}\n",
        "\\end{equation}"
      ]
    },
    {
      "cell_type": "markdown",
      "metadata": {
        "id": "2juGmAZnantJ"
      },
      "source": [
        "\n",
        "\n",
        "En Python podemos aplicar esta escala con los siguiente pasos."
      ]
    },
    {
      "cell_type": "code",
      "metadata": {
        "id": "Y61eoa0NantK"
      },
      "source": [
        "from sklearn import preprocessing\n",
        "import numpy as np"
      ],
      "execution_count": 83,
      "outputs": []
    },
    {
      "cell_type": "markdown",
      "metadata": {
        "id": "5Xb3CCHIantR"
      },
      "source": [
        "\n",
        "\n",
        "Creamos un conjunto de datos"
      ]
    },
    {
      "cell_type": "code",
      "metadata": {
        "id": "ehavU3DJantU"
      },
      "source": [
        "\n",
        "x = np.array([[-500.5], \n",
        "              [-100.1], \n",
        "              [0], \n",
        "              [100.1], \n",
        "              [900.9]])"
      ],
      "execution_count": 84,
      "outputs": []
    },
    {
      "cell_type": "markdown",
      "metadata": {
        "id": "l_CoEkaDantZ"
      },
      "source": [
        "\n",
        "\n",
        "Creamos una objeto MinMaxScaler"
      ]
    },
    {
      "cell_type": "code",
      "metadata": {
        "id": "0s41KZdhanta"
      },
      "source": [
        "minmax_scale = preprocessing.MinMaxScaler(feature_range=(0, 1))"
      ],
      "execution_count": 85,
      "outputs": []
    },
    {
      "cell_type": "markdown",
      "metadata": {
        "id": "ygNazxPlanth"
      },
      "source": [
        "\n",
        "\n",
        "Aplicamos la escala"
      ]
    },
    {
      "cell_type": "code",
      "metadata": {
        "id": "kX6mNlewantj"
      },
      "source": [
        "x_scale = minmax_scale.fit_transform(x)"
      ],
      "execution_count": 86,
      "outputs": []
    },
    {
      "cell_type": "markdown",
      "metadata": {
        "id": "8HktxpSKantq"
      },
      "source": [
        "\n",
        "\n",
        "Vemos la transformación"
      ]
    },
    {
      "cell_type": "code",
      "metadata": {
        "id": "3Y1Jsh3dantr",
        "colab": {
          "base_uri": "https://localhost:8080/"
        },
        "outputId": "e5e6fb98-5b4a-4d4d-a99f-f5277116de4d"
      },
      "source": [
        "x_scale"
      ],
      "execution_count": 87,
      "outputs": [
        {
          "output_type": "execute_result",
          "data": {
            "text/plain": [
              "array([[0.        ],\n",
              "       [0.28571429],\n",
              "       [0.35714286],\n",
              "       [0.42857143],\n",
              "       [1.        ]])"
            ]
          },
          "metadata": {},
          "execution_count": 87
        }
      ]
    },
    {
      "cell_type": "markdown",
      "metadata": {
        "id": "tpzZGGhuantu"
      },
      "source": [
        "\n",
        "\n",
        "# Standarización de variables\n",
        "\n",
        "La standarización es otro método de escalado. Consiste en reescalar una variable para que tenga media 0 y una varianza igual a 1.\n",
        "\n",
        "Vemos como aplicarlo en Python.\n",
        "\n"
      ]
    },
    {
      "cell_type": "code",
      "metadata": {
        "id": "5u3Vp_Zqantv"
      },
      "source": [
        "from sklearn import preprocessing\n",
        "import numpy as np"
      ],
      "execution_count": 88,
      "outputs": []
    },
    {
      "cell_type": "markdown",
      "metadata": {
        "id": "1T59vsJVant0"
      },
      "source": [
        "\n",
        "\n",
        "Creamos un conjutno de datos"
      ]
    },
    {
      "cell_type": "code",
      "metadata": {
        "id": "sNz3HClZant1"
      },
      "source": [
        "x = np.array([[-500.5], \n",
        "              [-100.1], \n",
        "              [0], \n",
        "              [100.1], \n",
        "              [900.9]])"
      ],
      "execution_count": 89,
      "outputs": []
    },
    {
      "cell_type": "markdown",
      "metadata": {
        "id": "4zg57yGNant6"
      },
      "source": [
        "\n",
        "\n",
        "Creamos el objeto para escalar"
      ]
    },
    {
      "cell_type": "code",
      "metadata": {
        "id": "Ddb3AQQPant7"
      },
      "source": [
        "scaler = preprocessing.StandardScaler()"
      ],
      "execution_count": 90,
      "outputs": []
    },
    {
      "cell_type": "markdown",
      "metadata": {
        "id": "GP6IMDz5anuA"
      },
      "source": [
        "\n",
        "\n",
        "Lo aplicamos"
      ]
    },
    {
      "cell_type": "code",
      "metadata": {
        "id": "BEls42--anuB"
      },
      "source": [
        "standardized = scaler.fit_transform(x)"
      ],
      "execution_count": 91,
      "outputs": []
    },
    {
      "cell_type": "markdown",
      "metadata": {
        "id": "WxcYMikqanuH"
      },
      "source": [
        "\n",
        "\n",
        "Vemos la transformación"
      ]
    },
    {
      "cell_type": "code",
      "metadata": {
        "id": "lr72v2W_anuI",
        "colab": {
          "base_uri": "https://localhost:8080/"
        },
        "outputId": "dd261530-702f-4b13-cd64-f1eb1552095e"
      },
      "source": [
        "standardized"
      ],
      "execution_count": 92,
      "outputs": [
        {
          "output_type": "execute_result",
          "data": {
            "text/plain": [
              "array([[-1.26687088],\n",
              "       [-0.39316683],\n",
              "       [-0.17474081],\n",
              "       [ 0.0436852 ],\n",
              "       [ 1.79109332]])"
            ]
          },
          "metadata": {},
          "execution_count": 92
        }
      ]
    },
    {
      "cell_type": "markdown",
      "metadata": {
        "id": "mJtTrVMAanuN"
      },
      "source": [
        "\n",
        "\n",
        "# Discretización de variables\n",
        "\n",
        "Consiste en el proceso de asignar los datos a una serie de valores discretos."
      ]
    },
    {
      "cell_type": "code",
      "metadata": {
        "id": "h9ygDnqGanuO"
      },
      "source": [
        "from sklearn.preprocessing import Binarizer\n",
        "import numpy as np"
      ],
      "execution_count": 93,
      "outputs": []
    },
    {
      "cell_type": "code",
      "metadata": {
        "id": "MEtSo8NqanuT"
      },
      "source": [
        "age = np.array([[6], \n",
        "                [12], \n",
        "                [20], \n",
        "                [36], \n",
        "                [65]])"
      ],
      "execution_count": 94,
      "outputs": []
    },
    {
      "cell_type": "markdown",
      "metadata": {
        "id": "7cGrm4DYanuY"
      },
      "source": [
        "\n",
        "\n",
        "Tenemos dos opciones en Python, usar un Binarizer, que asigna un valor u otro en función de un límite, o crear unos bins."
      ]
    },
    {
      "cell_type": "markdown",
      "metadata": {
        "id": "GqLRpRzVanuY"
      },
      "source": [
        "\n",
        "\n",
        "Creamos el Binarizer indicando el límite de edad de 18"
      ]
    },
    {
      "cell_type": "code",
      "metadata": {
        "id": "cT0mC3MDanuZ"
      },
      "source": [
        "binarizer = Binarizer(threshold=18)"
      ],
      "execution_count": 95,
      "outputs": []
    },
    {
      "cell_type": "markdown",
      "metadata": {
        "id": "yPdbTdqianud"
      },
      "source": [
        "\n",
        "\n",
        "Aplicamos la transformación"
      ]
    },
    {
      "cell_type": "code",
      "metadata": {
        "id": "2ysln8hYanud",
        "colab": {
          "base_uri": "https://localhost:8080/"
        },
        "outputId": "f4e840ec-e386-4fe2-ab4a-a5453fe3f28a"
      },
      "source": [
        "binarizer.fit_transform(age)"
      ],
      "execution_count": 96,
      "outputs": [
        {
          "output_type": "execute_result",
          "data": {
            "text/plain": [
              "array([[0],\n",
              "       [0],\n",
              "       [1],\n",
              "       [1],\n",
              "       [1]])"
            ]
          },
          "metadata": {},
          "execution_count": 96
        }
      ]
    },
    {
      "cell_type": "markdown",
      "metadata": {
        "id": "FnLEyxpHanuj"
      },
      "source": [
        "\n",
        "\n",
        "Creamos una serir de bins a los que asignar los valores"
      ]
    },
    {
      "cell_type": "code",
      "metadata": {
        "id": "8l_KrVS9anuj",
        "colab": {
          "base_uri": "https://localhost:8080/"
        },
        "outputId": "5ac683c1-c864-4df7-8d17-59bfd13dd3bd"
      },
      "source": [
        "np.digitize(age, bins=[20,30,64])"
      ],
      "execution_count": 97,
      "outputs": [
        {
          "output_type": "execute_result",
          "data": {
            "text/plain": [
              "array([[0],\n",
              "       [0],\n",
              "       [1],\n",
              "       [2],\n",
              "       [3]])"
            ]
          },
          "metadata": {},
          "execution_count": 97
        }
      ]
    },
    {
      "cell_type": "markdown",
      "metadata": {
        "id": "SvjVe0PTanun"
      },
      "source": [
        "\n",
        "\n",
        "# Reshape\n",
        "\n",
        "El proceso de reshape consiste en dar una nueva forma a la estructura de los datos, sin modificarlos.\n",
        "\n"
      ]
    },
    {
      "cell_type": "markdown",
      "metadata": {
        "id": "i7QETO_Ranuo"
      },
      "source": [
        "\n",
        "\n",
        "Por ejemplo, dada la matriz 4x3"
      ]
    },
    {
      "cell_type": "code",
      "metadata": {
        "id": "E2GhwNJkanup",
        "colab": {
          "base_uri": "https://localhost:8080/"
        },
        "outputId": "cbf95987-c4d0-4442-a1e8-ab66578ebb50"
      },
      "source": [
        "matrix = np.array([[1, 2, 3],\n",
        "                   [4, 5, 6],\n",
        "                   [7, 8, 9],\n",
        "                   [10, 11, 12]])\n",
        "matrix"
      ],
      "execution_count": 98,
      "outputs": [
        {
          "output_type": "execute_result",
          "data": {
            "text/plain": [
              "array([[ 1,  2,  3],\n",
              "       [ 4,  5,  6],\n",
              "       [ 7,  8,  9],\n",
              "       [10, 11, 12]])"
            ]
          },
          "metadata": {},
          "execution_count": 98
        }
      ]
    },
    {
      "cell_type": "markdown",
      "metadata": {
        "id": "91WgVTCtanus"
      },
      "source": [
        "\n",
        "\n",
        "Podemos transformar los datos por ejemplo en una matriz de 2x6"
      ]
    },
    {
      "cell_type": "code",
      "metadata": {
        "id": "Te5vpHfranuu",
        "colab": {
          "base_uri": "https://localhost:8080/"
        },
        "outputId": "538fbfc4-173f-4ae1-89cd-38e421002e34"
      },
      "source": [
        "matrix.reshape(2, 6)"
      ],
      "execution_count": 99,
      "outputs": [
        {
          "output_type": "execute_result",
          "data": {
            "text/plain": [
              "array([[ 1,  2,  3,  4,  5,  6],\n",
              "       [ 7,  8,  9, 10, 11, 12]])"
            ]
          },
          "metadata": {},
          "execution_count": 99
        }
      ]
    },
    {
      "cell_type": "markdown",
      "metadata": {
        "id": "UGb7v7fjanuz"
      },
      "source": [
        "\n",
        "\n",
        "# One-Hot Encoder\n",
        "\n",
        "El proceso de One-hot encoding consiste en la transformación de variables categóricas en una nueva forma que se puede alimentar a los algoritmos de modo que de lugar a una mejora en las predicciones.\n"
      ]
    },
    {
      "cell_type": "code",
      "metadata": {
        "id": "2YxPnWMRanuz"
      },
      "source": [
        "from sklearn.preprocessing import MultiLabelBinarizer\n",
        "import numpy as np\n",
        "import pandas as pd\n",
        "from sklearn import linear_model, decomposition, datasets\n",
        "from sklearn.pipeline import Pipeline\n",
        "from sklearn.model_selection import GridSearchCV, cross_val_score\n",
        "from sklearn.preprocessing import StandardScaler\n"
      ],
      "execution_count": 100,
      "outputs": []
    },
    {
      "cell_type": "markdown",
      "metadata": {
        "id": "3kelkKpganu3"
      },
      "source": [
        "\n",
        "\n",
        "Creamos unos datos categóricos de ejemplo"
      ]
    },
    {
      "cell_type": "code",
      "metadata": {
        "id": "fQwIxICpanu4",
        "colab": {
          "base_uri": "https://localhost:8080/"
        },
        "outputId": "e46df190-3505-45da-a11c-9550bb923aea"
      },
      "source": [
        "y = [('Texas', 'Florida'), \n",
        "    ('California', 'Alabama'), \n",
        "    ('Texas', 'Florida'), \n",
        "    ('Delware', 'Florida'), \n",
        "    ('Texas', 'Alabama')]\n",
        "y"
      ],
      "execution_count": 101,
      "outputs": [
        {
          "output_type": "execute_result",
          "data": {
            "text/plain": [
              "[('Texas', 'Florida'),\n",
              " ('California', 'Alabama'),\n",
              " ('Texas', 'Florida'),\n",
              " ('Delware', 'Florida'),\n",
              " ('Texas', 'Alabama')]"
            ]
          },
          "metadata": {},
          "execution_count": 101
        }
      ]
    },
    {
      "cell_type": "markdown",
      "metadata": {
        "id": "JTQKDy8Janu7"
      },
      "source": [
        "\n",
        "\n",
        "Donde tenemos 5 grupos con 5 elementos únicos. Podemos transformar esta información en un array de 5x5 en cada elemento esté representado por un 1 ó 0, indicando la existencia o no del mismo."
      ]
    },
    {
      "cell_type": "markdown",
      "metadata": {
        "id": "0RwJME25anu8"
      },
      "source": [
        "\n",
        "\n",
        "Creamos un objeto MultiLabelBinarizer"
      ]
    },
    {
      "cell_type": "code",
      "metadata": {
        "id": "yaEgXyKYanu9"
      },
      "source": [
        "one_hot = MultiLabelBinarizer()\n"
      ],
      "execution_count": 102,
      "outputs": []
    },
    {
      "cell_type": "markdown",
      "metadata": {
        "id": "xKwsglxKanvD"
      },
      "source": [
        "\n",
        "\n",
        "Realizamos la transformación"
      ]
    },
    {
      "cell_type": "code",
      "metadata": {
        "id": "8s9m27hLanvE",
        "colab": {
          "base_uri": "https://localhost:8080/"
        },
        "outputId": "fa550c7d-0dbc-460b-97e0-f86802ff3e85"
      },
      "source": [
        "one_hot.fit_transform(y)"
      ],
      "execution_count": 103,
      "outputs": [
        {
          "output_type": "execute_result",
          "data": {
            "text/plain": [
              "array([[0, 0, 0, 1, 1],\n",
              "       [1, 1, 0, 0, 0],\n",
              "       [0, 0, 0, 1, 1],\n",
              "       [0, 0, 1, 1, 0],\n",
              "       [1, 0, 0, 0, 1]])"
            ]
          },
          "metadata": {},
          "execution_count": 103
        }
      ]
    },
    {
      "cell_type": "markdown",
      "metadata": {
        "id": "CWgSygXManvH"
      },
      "source": [
        "\n",
        "\n",
        "Vemos cúal es el mapeo de datos"
      ]
    },
    {
      "cell_type": "code",
      "metadata": {
        "id": "QLtL5C84anvI",
        "colab": {
          "base_uri": "https://localhost:8080/"
        },
        "outputId": "289d195c-519a-4038-bd15-b2ac289bc3ba"
      },
      "source": [
        "one_hot.classes_"
      ],
      "execution_count": 104,
      "outputs": [
        {
          "output_type": "execute_result",
          "data": {
            "text/plain": [
              "array(['Alabama', 'California', 'Delware', 'Florida', 'Texas'],\n",
              "      dtype=object)"
            ]
          },
          "metadata": {},
          "execution_count": 104
        }
      ]
    },
    {
      "cell_type": "markdown",
      "metadata": {
        "id": "r9EvmvxGanvM"
      },
      "source": [
        "\n",
        "\n",
        "# Pipelines\n",
        "\n",
        "Un pipeline consiste en una serie encadenada de transformaciones sobre los datos ( por ejemplo normalizar númericos, tratar NaNs, etc...) junto con un estimador (algoritmo). Este proceso permite realizar todos los procesos en bloque."
      ]
    },
    {
      "cell_type": "markdown",
      "metadata": {
        "id": "OHFb2EvDanvM"
      },
      "source": [
        "\n",
        "\n",
        "Cargamos una dataset de ejemplo con datos sobre cancer"
      ]
    },
    {
      "cell_type": "code",
      "metadata": {
        "id": "OX5w8k5janvN"
      },
      "source": [
        "dataset = datasets.load_breast_cancer()"
      ],
      "execution_count": 105,
      "outputs": []
    },
    {
      "cell_type": "markdown",
      "metadata": {
        "id": "mbq1iJ-oanvX"
      },
      "source": [
        "\n",
        "\n",
        "Create X from the dataset's features"
      ]
    },
    {
      "cell_type": "code",
      "metadata": {
        "id": "7vsKSwO8anvY"
      },
      "source": [
        "X = dataset.data"
      ],
      "execution_count": 106,
      "outputs": []
    },
    {
      "cell_type": "markdown",
      "metadata": {
        "id": "wEiKN2LRanva"
      },
      "source": [
        "\n",
        "\n",
        "Create y from the dataset's output"
      ]
    },
    {
      "cell_type": "code",
      "metadata": {
        "id": "4v1hpepGanvc"
      },
      "source": [
        "y = dataset.target"
      ],
      "execution_count": 107,
      "outputs": []
    },
    {
      "cell_type": "markdown",
      "metadata": {
        "id": "NkJcaQ-zanvf"
      },
      "source": [
        "\n",
        "\n",
        "A continuación creamos una serie de transformaciones sobre los datos:\n",
        "\n",
        "    - escalado\n",
        "    - reducción de dimensiones mediante un PCA\n",
        "\n",
        "Y por último aplicamos un estimador, en este caso una LogisticRegression.\n"
      ]
    },
    {
      "cell_type": "markdown",
      "metadata": {
        "id": "9gQsVjmdanvf"
      },
      "source": [
        "\n",
        "\n",
        "Creamos el objeto de escalado"
      ]
    },
    {
      "cell_type": "code",
      "metadata": {
        "id": "QN0n-FjHanvf"
      },
      "source": [
        "sc = StandardScaler()"
      ],
      "execution_count": 108,
      "outputs": []
    },
    {
      "cell_type": "markdown",
      "metadata": {
        "id": "ahGIEwmRanvi"
      },
      "source": [
        "\n",
        "\n",
        "Creamos el objeto PCA"
      ]
    },
    {
      "cell_type": "code",
      "metadata": {
        "id": "w_e_oJLPanvi"
      },
      "source": [
        "pca = decomposition.PCA()"
      ],
      "execution_count": 109,
      "outputs": []
    },
    {
      "cell_type": "markdown",
      "metadata": {
        "id": "vKTOvFOLanvn"
      },
      "source": [
        "\n",
        "\n",
        "Creamos el estimador logistic regression"
      ]
    },
    {
      "cell_type": "code",
      "metadata": {
        "id": "j6eE9yubanvo"
      },
      "source": [
        "logistic = linear_model.LogisticRegression()"
      ],
      "execution_count": 110,
      "outputs": []
    },
    {
      "cell_type": "markdown",
      "metadata": {
        "id": "sbhSZcUXanvr"
      },
      "source": [
        "\n",
        "\n",
        "Por último enlazamos en un pipeline los 3 pasos."
      ]
    },
    {
      "cell_type": "code",
      "metadata": {
        "id": "K9UvtADvanvr"
      },
      "source": [
        "pipe = Pipeline(steps=[('sc', sc), \n",
        "                       ('pca', pca), \n",
        "                       ('logistic', logistic)])"
      ],
      "execution_count": 111,
      "outputs": []
    },
    {
      "cell_type": "markdown",
      "metadata": {
        "id": "lRPXohTqanvt"
      },
      "source": [
        "\n",
        "\n",
        "Adicionalmente creamos una rejilla de parámetros que nos permita obtener el modelo con mejores métricas."
      ]
    },
    {
      "cell_type": "markdown",
      "metadata": {
        "id": "QcwIegTyanvt"
      },
      "source": [
        "\n",
        "\n",
        "Creamos una lista de componentes para el PCA"
      ]
    },
    {
      "cell_type": "code",
      "metadata": {
        "id": "ONiqd3PZanvv"
      },
      "source": [
        "n_components = list(range(1,X.shape[1]+1,1))\n",
        "n_components = [2,3,4,5]"
      ],
      "execution_count": 112,
      "outputs": []
    },
    {
      "cell_type": "markdown",
      "metadata": {
        "id": "M_DZkplsanvx"
      },
      "source": [
        "\n",
        "\n",
        "Creamos una lista de componentes para el parámetro de regularización de la regresión."
      ]
    },
    {
      "cell_type": "code",
      "metadata": {
        "id": "xy1bkTizanvx"
      },
      "source": [
        "C = np.logspace(-4, 4, 50)"
      ],
      "execution_count": 113,
      "outputs": []
    },
    {
      "cell_type": "markdown",
      "metadata": {
        "id": "SdI9d1Bpanvz"
      },
      "source": [
        "\n",
        "\n",
        "Creamos una lista de componentes para la penalización de la regresión."
      ]
    },
    {
      "cell_type": "code",
      "metadata": {
        "id": "q3ATBzy2anv0"
      },
      "source": [
        "penalty = ['l1', 'l2']"
      ],
      "execution_count": 114,
      "outputs": []
    },
    {
      "cell_type": "markdown",
      "metadata": {
        "id": "zN65OqwKanv3"
      },
      "source": [
        "\n",
        "\n",
        "Por último generamos un diccionario con todos estos parámetros."
      ]
    },
    {
      "cell_type": "code",
      "metadata": {
        "id": "CkBxn6G2anv3"
      },
      "source": [
        "parameters = dict(pca__n_components=n_components, \n",
        "                  logistic__C=C,\n",
        "                  logistic__penalty=penalty)"
      ],
      "execution_count": 115,
      "outputs": []
    },
    {
      "cell_type": "markdown",
      "metadata": {
        "id": "Sr-zx8g-anv6"
      },
      "source": [
        "\n",
        "\n",
        "Uniendo estos elementos en un objeto GridSearchCV podemos hacer una búsqueda de los parámetros que optimizan el resultado y evaluarlo mediante validación cruzada."
      ]
    },
    {
      "cell_type": "markdown",
      "metadata": {
        "id": "_8nCvG29anv6"
      },
      "source": [
        "\n",
        "\n",
        "Creamos un objeto gridsearch"
      ]
    },
    {
      "cell_type": "code",
      "metadata": {
        "id": "qkw1TJLganv7"
      },
      "source": [
        "clf = GridSearchCV(pipe, parameters)\n"
      ],
      "execution_count": 116,
      "outputs": []
    },
    {
      "cell_type": "markdown",
      "metadata": {
        "id": "Uk9TdgMbanv9"
      },
      "source": [
        "\n",
        "\n",
        "Ajustamos la rejilla"
      ]
    },
    {
      "cell_type": "code",
      "metadata": {
        "id": "F_UmYWq7anv9",
        "colab": {
          "base_uri": "https://localhost:8080/"
        },
        "outputId": "f04910b2-7a81-44e9-f666-5497aa17524c"
      },
      "source": [
        "clf.fit(X, y)"
      ],
      "execution_count": 117,
      "outputs": [
        {
          "output_type": "stream",
          "name": "stderr",
          "text": [
            "/usr/local/lib/python3.7/dist-packages/sklearn/model_selection/_validation.py:372: FitFailedWarning: \n",
            "1000 fits failed out of a total of 2000.\n",
            "The score on these train-test partitions for these parameters will be set to nan.\n",
            "If these failures are not expected, you can try to debug them by setting error_score='raise'.\n",
            "\n",
            "Below are more details about the failures:\n",
            "--------------------------------------------------------------------------------\n",
            "1000 fits failed with the following error:\n",
            "Traceback (most recent call last):\n",
            "  File \"/usr/local/lib/python3.7/dist-packages/sklearn/model_selection/_validation.py\", line 680, in _fit_and_score\n",
            "    estimator.fit(X_train, y_train, **fit_params)\n",
            "  File \"/usr/local/lib/python3.7/dist-packages/sklearn/pipeline.py\", line 394, in fit\n",
            "    self._final_estimator.fit(Xt, y, **fit_params_last_step)\n",
            "  File \"/usr/local/lib/python3.7/dist-packages/sklearn/linear_model/_logistic.py\", line 1461, in fit\n",
            "    solver = _check_solver(self.solver, self.penalty, self.dual)\n",
            "  File \"/usr/local/lib/python3.7/dist-packages/sklearn/linear_model/_logistic.py\", line 449, in _check_solver\n",
            "    % (solver, penalty)\n",
            "ValueError: Solver lbfgs supports only 'l2' or 'none' penalties, got l1 penalty.\n",
            "\n",
            "  warnings.warn(some_fits_failed_message, FitFailedWarning)\n",
            "/usr/local/lib/python3.7/dist-packages/sklearn/model_selection/_search.py:972: UserWarning: One or more of the test scores are non-finite: [       nan        nan        nan        nan 0.64500854 0.64323863\n",
            " 0.64323863 0.64323863        nan        nan        nan        nan\n",
            " 0.67840397 0.67664959 0.67487968 0.67663406        nan        nan\n",
            "        nan        nan 0.7258966  0.7258966  0.73115976 0.73115976\n",
            "        nan        nan        nan        nan 0.78920975 0.79445738\n",
            " 0.79973607 0.79622729        nan        nan        nan        nan\n",
            " 0.83493246 0.83667132 0.83668685 0.83844124        nan        nan\n",
            "        nan        nan 0.86126378 0.87003571 0.86828132 0.87356001\n",
            "        nan        nan        nan        nan 0.87882316 0.88585623\n",
            " 0.88585623 0.88936501        nan        nan        nan        nan\n",
            " 0.90166123 0.89990685 0.90343114 0.90867878        nan        nan\n",
            "        nan        nan 0.91571185 0.91571185 0.92448378 0.92623816\n",
            "        nan        nan        nan        nan 0.92272939 0.92799255\n",
            " 0.93327123 0.93327123        nan        nan        nan        nan\n",
            " 0.92799255 0.93502562 0.93501009 0.93853439        nan        nan\n",
            "        nan        nan 0.92974693 0.93502562 0.93676448 0.94202764\n",
            "        nan        nan        nan        nan 0.92974693 0.93501009\n",
            " 0.94204316 0.94730632        nan        nan        nan        nan\n",
            " 0.93325571 0.93678    0.94381307 0.95256948        nan        nan\n",
            "        nan        nan 0.93501009 0.93853439 0.95083062 0.9561093\n",
            "        nan        nan        nan        nan 0.93148579 0.93853439\n",
            " 0.9561093  0.96488123        nan        nan        nan        nan\n",
            " 0.93501009 0.94379755 0.95961807 0.97189877        nan        nan\n",
            "        nan        nan 0.93853439 0.94555193 0.96312684 0.97189877\n",
            "        nan        nan        nan        nan 0.94205869 0.94555193\n",
            " 0.96137246 0.97189877        nan        nan        nan        nan\n",
            " 0.94733737 0.94202764 0.96489676 0.96839           nan        nan\n",
            "        nan        nan 0.94558298 0.94555193 0.96489676 0.96663562\n",
            "        nan        nan        nan        nan 0.94733737 0.94379755\n",
            " 0.96665114 0.97014439        nan        nan        nan        nan\n",
            " 0.94733737 0.94555193 0.96665114 0.97366868        nan        nan\n",
            "        nan        nan 0.95084614 0.94555193 0.96665114 0.97366868\n",
            "        nan        nan        nan        nan 0.95084614 0.94730632\n",
            " 0.96840553 0.97015991        nan        nan        nan        nan\n",
            " 0.95084614 0.94730632 0.97015991 0.97015991        nan        nan\n",
            "        nan        nan 0.95084614 0.94730632 0.97015991 0.9719143\n",
            "        nan        nan        nan        nan 0.95084614 0.94730632\n",
            " 0.97015991 0.9719143         nan        nan        nan        nan\n",
            " 0.95084614 0.94730632 0.97015991 0.9719143         nan        nan\n",
            "        nan        nan 0.95260053 0.94730632 0.97015991 0.97366868\n",
            "        nan        nan        nan        nan 0.95435491 0.94730632\n",
            " 0.97015991 0.97366868        nan        nan        nan        nan\n",
            " 0.95435491 0.94730632 0.97015991 0.97366868        nan        nan\n",
            "        nan        nan 0.95435491 0.94730632 0.97015991 0.97366868\n",
            "        nan        nan        nan        nan 0.95435491 0.94730632\n",
            " 0.97015991 0.97366868        nan        nan        nan        nan\n",
            " 0.95435491 0.94730632 0.97015991 0.97366868        nan        nan\n",
            "        nan        nan 0.95435491 0.94730632 0.97015991 0.97366868\n",
            "        nan        nan        nan        nan 0.95435491 0.94730632\n",
            " 0.97015991 0.97366868        nan        nan        nan        nan\n",
            " 0.95435491 0.94730632 0.97015991 0.97366868        nan        nan\n",
            "        nan        nan 0.95435491 0.94730632 0.97015991 0.97366868\n",
            "        nan        nan        nan        nan 0.95435491 0.94730632\n",
            " 0.97015991 0.97366868        nan        nan        nan        nan\n",
            " 0.95435491 0.94730632 0.97015991 0.97366868        nan        nan\n",
            "        nan        nan 0.95435491 0.94730632 0.97015991 0.97366868\n",
            "        nan        nan        nan        nan 0.95435491 0.94730632\n",
            " 0.97015991 0.97366868        nan        nan        nan        nan\n",
            " 0.95435491 0.94730632 0.97015991 0.97366868        nan        nan\n",
            "        nan        nan 0.95435491 0.94730632 0.97015991 0.97366868\n",
            "        nan        nan        nan        nan 0.95435491 0.94730632\n",
            " 0.97015991 0.97366868        nan        nan        nan        nan\n",
            " 0.95435491 0.94730632 0.97015991 0.97366868        nan        nan\n",
            "        nan        nan 0.95435491 0.94730632 0.97015991 0.97366868\n",
            "        nan        nan        nan        nan 0.95435491 0.94730632\n",
            " 0.97015991 0.97366868        nan        nan        nan        nan\n",
            " 0.95435491 0.94730632 0.97015991 0.97366868]\n",
            "  category=UserWarning,\n"
          ]
        },
        {
          "output_type": "execute_result",
          "data": {
            "text/plain": [
              "GridSearchCV(estimator=Pipeline(steps=[('sc', StandardScaler()), ('pca', PCA()),\n",
              "                                       ('logistic', LogisticRegression())]),\n",
              "             param_grid={'logistic__C': array([1.00000000e-04, 1.45634848e-04, 2.12095089e-04, 3.08884360e-04,\n",
              "       4.49843267e-04, 6.55128557e-04, 9.54095476e-04, 1.38949549e-03,\n",
              "       2.02358965e-03, 2.94705170e-03, 4.29193426e-03, 6.25055193e-03,\n",
              "       9.10298178e-03, 1.3257113...\n",
              "       3.72759372e+00, 5.42867544e+00, 7.90604321e+00, 1.15139540e+01,\n",
              "       1.67683294e+01, 2.44205309e+01, 3.55648031e+01, 5.17947468e+01,\n",
              "       7.54312006e+01, 1.09854114e+02, 1.59985872e+02, 2.32995181e+02,\n",
              "       3.39322177e+02, 4.94171336e+02, 7.19685673e+02, 1.04811313e+03,\n",
              "       1.52641797e+03, 2.22299648e+03, 3.23745754e+03, 4.71486636e+03,\n",
              "       6.86648845e+03, 1.00000000e+04]),\n",
              "                         'logistic__penalty': ['l1', 'l2'],\n",
              "                         'pca__n_components': [2, 3, 4, 5]})"
            ]
          },
          "metadata": {},
          "execution_count": 117
        }
      ]
    },
    {
      "cell_type": "markdown",
      "metadata": {
        "id": "C-fdR5r5anwA"
      },
      "source": [
        "\n",
        "\n",
        "Vemos los mejores parámetros"
      ]
    },
    {
      "cell_type": "code",
      "metadata": {
        "id": "N0eDy64IanwB",
        "colab": {
          "base_uri": "https://localhost:8080/"
        },
        "outputId": "a0c636e9-6615-491f-9d22-7d14db954178"
      },
      "source": [
        "print('Best Penalty:', clf.best_estimator_.get_params()['logistic__penalty'])\n",
        "print('Best C:', clf.best_estimator_.get_params()['logistic__C'])\n",
        "print('Best Number Of Components:', clf.best_estimator_.get_params()['pca__n_components'])"
      ],
      "execution_count": 118,
      "outputs": [
        {
          "output_type": "stream",
          "name": "stdout",
          "text": [
            "Best Penalty: l2\n",
            "Best C: 0.3906939937054613\n",
            "Best Number Of Components: 5\n"
          ]
        }
      ]
    },
    {
      "cell_type": "markdown",
      "metadata": {
        "id": "qS4PmU1IanwE"
      },
      "source": [
        "\n",
        "\n",
        "Ajustamos el gridsearch usando validación cruzada con k=3"
      ]
    },
    {
      "cell_type": "code",
      "metadata": {
        "id": "l5PT9hw0anwG",
        "colab": {
          "base_uri": "https://localhost:8080/"
        },
        "outputId": "ce910920-ec49-4892-bc72-f21f771714e1"
      },
      "source": [
        "cross_val_score(clf, X, y)"
      ],
      "execution_count": 119,
      "outputs": [
        {
          "output_type": "stream",
          "name": "stderr",
          "text": [
            "/usr/local/lib/python3.7/dist-packages/sklearn/model_selection/_validation.py:372: FitFailedWarning: \n",
            "1000 fits failed out of a total of 2000.\n",
            "The score on these train-test partitions for these parameters will be set to nan.\n",
            "If these failures are not expected, you can try to debug them by setting error_score='raise'.\n",
            "\n",
            "Below are more details about the failures:\n",
            "--------------------------------------------------------------------------------\n",
            "1000 fits failed with the following error:\n",
            "Traceback (most recent call last):\n",
            "  File \"/usr/local/lib/python3.7/dist-packages/sklearn/model_selection/_validation.py\", line 680, in _fit_and_score\n",
            "    estimator.fit(X_train, y_train, **fit_params)\n",
            "  File \"/usr/local/lib/python3.7/dist-packages/sklearn/pipeline.py\", line 394, in fit\n",
            "    self._final_estimator.fit(Xt, y, **fit_params_last_step)\n",
            "  File \"/usr/local/lib/python3.7/dist-packages/sklearn/linear_model/_logistic.py\", line 1461, in fit\n",
            "    solver = _check_solver(self.solver, self.penalty, self.dual)\n",
            "  File \"/usr/local/lib/python3.7/dist-packages/sklearn/linear_model/_logistic.py\", line 449, in _check_solver\n",
            "    % (solver, penalty)\n",
            "ValueError: Solver lbfgs supports only 'l2' or 'none' penalties, got l1 penalty.\n",
            "\n",
            "  warnings.warn(some_fits_failed_message, FitFailedWarning)\n",
            "/usr/local/lib/python3.7/dist-packages/sklearn/model_selection/_search.py:972: UserWarning: One or more of the test scores are non-finite: [       nan        nan        nan        nan 0.63736264 0.63736264\n",
            " 0.63736264 0.63736264        nan        nan        nan        nan\n",
            " 0.66153846 0.65934066 0.65934066 0.65934066        nan        nan\n",
            "        nan        nan 0.6967033  0.69450549 0.6989011  0.6989011\n",
            "        nan        nan        nan        nan 0.75604396 0.75384615\n",
            " 0.75384615 0.75384615        nan        nan        nan        nan\n",
            " 0.81758242 0.81318681 0.81318681 0.81538462        nan        nan\n",
            "        nan        nan 0.85274725 0.85494505 0.85714286 0.85494505\n",
            "        nan        nan        nan        nan 0.87912088 0.88131868\n",
            " 0.88131868 0.88131868        nan        nan        nan        nan\n",
            " 0.89450549 0.8967033  0.9032967  0.9032967         nan        nan\n",
            "        nan        nan 0.91208791 0.91868132 0.91648352 0.91868132\n",
            "        nan        nan        nan        nan 0.92307692 0.92747253\n",
            " 0.93186813 0.93186813        nan        nan        nan        nan\n",
            " 0.92307692 0.92967033 0.94065934 0.94505495        nan        nan\n",
            "        nan        nan 0.93626374 0.94065934 0.94285714 0.94945055\n",
            "        nan        nan        nan        nan 0.93846154 0.94285714\n",
            " 0.94945055 0.95164835        nan        nan        nan        nan\n",
            " 0.93846154 0.94285714 0.95164835 0.95384615        nan        nan\n",
            "        nan        nan 0.93846154 0.94285714 0.95164835 0.95384615\n",
            "        nan        nan        nan        nan 0.93846154 0.94285714\n",
            " 0.95164835 0.96043956        nan        nan        nan        nan\n",
            " 0.93846154 0.94285714 0.96043956 0.96263736        nan        nan\n",
            "        nan        nan 0.94065934 0.94505495 0.96043956 0.96923077\n",
            "        nan        nan        nan        nan 0.94505495 0.94725275\n",
            " 0.96263736 0.96923077        nan        nan        nan        nan\n",
            " 0.94505495 0.94725275 0.96263736 0.96703297        nan        nan\n",
            "        nan        nan 0.94505495 0.94945055 0.96263736 0.97142857\n",
            "        nan        nan        nan        nan 0.94945055 0.95164835\n",
            " 0.96263736 0.97142857        nan        nan        nan        nan\n",
            " 0.95164835 0.94945055 0.96483516 0.96923077        nan        nan\n",
            "        nan        nan 0.95164835 0.94945055 0.96483516 0.96923077\n",
            "        nan        nan        nan        nan 0.94945055 0.94945055\n",
            " 0.96483516 0.97142857        nan        nan        nan        nan\n",
            " 0.94945055 0.94945055 0.96483516 0.97142857        nan        nan\n",
            "        nan        nan 0.94945055 0.94945055 0.96703297 0.97142857\n",
            "        nan        nan        nan        nan 0.95164835 0.94945055\n",
            " 0.96703297 0.97142857        nan        nan        nan        nan\n",
            " 0.94945055 0.94945055 0.96703297 0.96923077        nan        nan\n",
            "        nan        nan 0.94945055 0.94945055 0.96703297 0.96923077\n",
            "        nan        nan        nan        nan 0.94945055 0.94945055\n",
            " 0.96703297 0.96923077        nan        nan        nan        nan\n",
            " 0.94945055 0.94945055 0.96703297 0.96923077        nan        nan\n",
            "        nan        nan 0.94945055 0.94725275 0.96703297 0.96923077\n",
            "        nan        nan        nan        nan 0.94945055 0.94725275\n",
            " 0.96703297 0.96923077        nan        nan        nan        nan\n",
            " 0.94945055 0.94725275 0.96703297 0.96923077        nan        nan\n",
            "        nan        nan 0.94945055 0.94725275 0.96703297 0.96923077\n",
            "        nan        nan        nan        nan 0.94945055 0.94725275\n",
            " 0.96703297 0.96923077        nan        nan        nan        nan\n",
            " 0.94945055 0.94725275 0.96703297 0.96923077        nan        nan\n",
            "        nan        nan 0.94945055 0.94725275 0.96703297 0.96923077\n",
            "        nan        nan        nan        nan 0.94945055 0.94725275\n",
            " 0.96703297 0.96923077        nan        nan        nan        nan\n",
            " 0.94945055 0.94725275 0.96703297 0.96923077        nan        nan\n",
            "        nan        nan 0.94945055 0.94725275 0.96703297 0.96923077\n",
            "        nan        nan        nan        nan 0.94945055 0.94725275\n",
            " 0.96703297 0.96923077        nan        nan        nan        nan\n",
            " 0.94945055 0.94725275 0.96703297 0.96923077        nan        nan\n",
            "        nan        nan 0.94945055 0.94725275 0.96703297 0.96923077\n",
            "        nan        nan        nan        nan 0.94945055 0.94725275\n",
            " 0.96703297 0.96923077        nan        nan        nan        nan\n",
            " 0.94945055 0.94725275 0.96703297 0.96923077        nan        nan\n",
            "        nan        nan 0.94945055 0.94725275 0.96703297 0.96923077\n",
            "        nan        nan        nan        nan 0.94945055 0.94725275\n",
            " 0.96703297 0.96923077        nan        nan        nan        nan\n",
            " 0.94945055 0.94725275 0.96703297 0.96923077]\n",
            "  category=UserWarning,\n",
            "/usr/local/lib/python3.7/dist-packages/sklearn/model_selection/_validation.py:372: FitFailedWarning: \n",
            "1000 fits failed out of a total of 2000.\n",
            "The score on these train-test partitions for these parameters will be set to nan.\n",
            "If these failures are not expected, you can try to debug them by setting error_score='raise'.\n",
            "\n",
            "Below are more details about the failures:\n",
            "--------------------------------------------------------------------------------\n",
            "1000 fits failed with the following error:\n",
            "Traceback (most recent call last):\n",
            "  File \"/usr/local/lib/python3.7/dist-packages/sklearn/model_selection/_validation.py\", line 680, in _fit_and_score\n",
            "    estimator.fit(X_train, y_train, **fit_params)\n",
            "  File \"/usr/local/lib/python3.7/dist-packages/sklearn/pipeline.py\", line 394, in fit\n",
            "    self._final_estimator.fit(Xt, y, **fit_params_last_step)\n",
            "  File \"/usr/local/lib/python3.7/dist-packages/sklearn/linear_model/_logistic.py\", line 1461, in fit\n",
            "    solver = _check_solver(self.solver, self.penalty, self.dual)\n",
            "  File \"/usr/local/lib/python3.7/dist-packages/sklearn/linear_model/_logistic.py\", line 449, in _check_solver\n",
            "    % (solver, penalty)\n",
            "ValueError: Solver lbfgs supports only 'l2' or 'none' penalties, got l1 penalty.\n",
            "\n",
            "  warnings.warn(some_fits_failed_message, FitFailedWarning)\n",
            "/usr/local/lib/python3.7/dist-packages/sklearn/model_selection/_search.py:972: UserWarning: One or more of the test scores are non-finite: [       nan        nan        nan        nan 0.63296703 0.63296703\n",
            " 0.63296703 0.63296703        nan        nan        nan        nan\n",
            " 0.65274725 0.65494505 0.65274725 0.65274725        nan        nan\n",
            "        nan        nan 0.69450549 0.69010989 0.68791209 0.69010989\n",
            "        nan        nan        nan        nan 0.75604396 0.75164835\n",
            " 0.75164835 0.75384615        nan        nan        nan        nan\n",
            " 0.81318681 0.81318681 0.81978022 0.81978022        nan        nan\n",
            "        nan        nan 0.85054945 0.85494505 0.85494505 0.85274725\n",
            "        nan        nan        nan        nan 0.87472527 0.87912088\n",
            " 0.88571429 0.88571429        nan        nan        nan        nan\n",
            " 0.88571429 0.8967033  0.8989011  0.9010989         nan        nan\n",
            "        nan        nan 0.90769231 0.90769231 0.90769231 0.91208791\n",
            "        nan        nan        nan        nan 0.91648352 0.92087912\n",
            " 0.91868132 0.91868132        nan        nan        nan        nan\n",
            " 0.91868132 0.92527473 0.93846154 0.93846154        nan        nan\n",
            "        nan        nan 0.92527473 0.93846154 0.93846154 0.94065934\n",
            "        nan        nan        nan        nan 0.93186813 0.94285714\n",
            " 0.94065934 0.94945055        nan        nan        nan        nan\n",
            " 0.93406593 0.94285714 0.94505495 0.95384615        nan        nan\n",
            "        nan        nan 0.93186813 0.94505495 0.95164835 0.95824176\n",
            "        nan        nan        nan        nan 0.93406593 0.94065934\n",
            " 0.95824176 0.96263736        nan        nan        nan        nan\n",
            " 0.93406593 0.94065934 0.95824176 0.96263736        nan        nan\n",
            "        nan        nan 0.93406593 0.94285714 0.95824176 0.96263736\n",
            "        nan        nan        nan        nan 0.93846154 0.94285714\n",
            " 0.96043956 0.96483516        nan        nan        nan        nan\n",
            " 0.94065934 0.95164835 0.96703297 0.96703297        nan        nan\n",
            "        nan        nan 0.94285714 0.95384615 0.96703297 0.96923077\n",
            "        nan        nan        nan        nan 0.93846154 0.95384615\n",
            " 0.96923077 0.96923077        nan        nan        nan        nan\n",
            " 0.93846154 0.95164835 0.97362637 0.96923077        nan        nan\n",
            "        nan        nan 0.94065934 0.95164835 0.97362637 0.96703297\n",
            "        nan        nan        nan        nan 0.94065934 0.95384615\n",
            " 0.97142857 0.96703297        nan        nan        nan        nan\n",
            " 0.94065934 0.95384615 0.96923077 0.96703297        nan        nan\n",
            "        nan        nan 0.94285714 0.95384615 0.96923077 0.96483516\n",
            "        nan        nan        nan        nan 0.94285714 0.95164835\n",
            " 0.96923077 0.96703297        nan        nan        nan        nan\n",
            " 0.94505495 0.95164835 0.96923077 0.96703297        nan        nan\n",
            "        nan        nan 0.94505495 0.95164835 0.96923077 0.96703297\n",
            "        nan        nan        nan        nan 0.94505495 0.95164835\n",
            " 0.96923077 0.96703297        nan        nan        nan        nan\n",
            " 0.94505495 0.94945055 0.96923077 0.96483516        nan        nan\n",
            "        nan        nan 0.94505495 0.94945055 0.97142857 0.96483516\n",
            "        nan        nan        nan        nan 0.94505495 0.94945055\n",
            " 0.97142857 0.96483516        nan        nan        nan        nan\n",
            " 0.94285714 0.94945055 0.97142857 0.96483516        nan        nan\n",
            "        nan        nan 0.94285714 0.94945055 0.97142857 0.96483516\n",
            "        nan        nan        nan        nan 0.94285714 0.95164835\n",
            " 0.97142857 0.96483516        nan        nan        nan        nan\n",
            " 0.94285714 0.95164835 0.97142857 0.96483516        nan        nan\n",
            "        nan        nan 0.94285714 0.95164835 0.97142857 0.96483516\n",
            "        nan        nan        nan        nan 0.94285714 0.95164835\n",
            " 0.96923077 0.96483516        nan        nan        nan        nan\n",
            " 0.94285714 0.95164835 0.96923077 0.96483516        nan        nan\n",
            "        nan        nan 0.94285714 0.95164835 0.96923077 0.96483516\n",
            "        nan        nan        nan        nan 0.94285714 0.95164835\n",
            " 0.96923077 0.96483516        nan        nan        nan        nan\n",
            " 0.94285714 0.95164835 0.96923077 0.96483516        nan        nan\n",
            "        nan        nan 0.94285714 0.95164835 0.96923077 0.96483516\n",
            "        nan        nan        nan        nan 0.94285714 0.95164835\n",
            " 0.96923077 0.96483516        nan        nan        nan        nan\n",
            " 0.94285714 0.95164835 0.96923077 0.96483516        nan        nan\n",
            "        nan        nan 0.94285714 0.95164835 0.96923077 0.96483516\n",
            "        nan        nan        nan        nan 0.94285714 0.95164835\n",
            " 0.96923077 0.96483516        nan        nan        nan        nan\n",
            " 0.94285714 0.95164835 0.96923077 0.96483516]\n",
            "  category=UserWarning,\n",
            "/usr/local/lib/python3.7/dist-packages/sklearn/model_selection/_validation.py:372: FitFailedWarning: \n",
            "1000 fits failed out of a total of 2000.\n",
            "The score on these train-test partitions for these parameters will be set to nan.\n",
            "If these failures are not expected, you can try to debug them by setting error_score='raise'.\n",
            "\n",
            "Below are more details about the failures:\n",
            "--------------------------------------------------------------------------------\n",
            "1000 fits failed with the following error:\n",
            "Traceback (most recent call last):\n",
            "  File \"/usr/local/lib/python3.7/dist-packages/sklearn/model_selection/_validation.py\", line 680, in _fit_and_score\n",
            "    estimator.fit(X_train, y_train, **fit_params)\n",
            "  File \"/usr/local/lib/python3.7/dist-packages/sklearn/pipeline.py\", line 394, in fit\n",
            "    self._final_estimator.fit(Xt, y, **fit_params_last_step)\n",
            "  File \"/usr/local/lib/python3.7/dist-packages/sklearn/linear_model/_logistic.py\", line 1461, in fit\n",
            "    solver = _check_solver(self.solver, self.penalty, self.dual)\n",
            "  File \"/usr/local/lib/python3.7/dist-packages/sklearn/linear_model/_logistic.py\", line 449, in _check_solver\n",
            "    % (solver, penalty)\n",
            "ValueError: Solver lbfgs supports only 'l2' or 'none' penalties, got l1 penalty.\n",
            "\n",
            "  warnings.warn(some_fits_failed_message, FitFailedWarning)\n",
            "/usr/local/lib/python3.7/dist-packages/sklearn/model_selection/_search.py:972: UserWarning: One or more of the test scores are non-finite: [       nan        nan        nan        nan 0.63516484 0.63516484\n",
            " 0.63296703 0.63516484        nan        nan        nan        nan\n",
            " 0.65494505 0.65494505 0.65494505 0.65494505        nan        nan\n",
            "        nan        nan 0.69010989 0.69230769 0.69230769 0.69230769\n",
            "        nan        nan        nan        nan 0.75604396 0.74945055\n",
            " 0.75384615 0.75604396        nan        nan        nan        nan\n",
            " 0.81318681 0.80659341 0.81318681 0.81758242        nan        nan\n",
            "        nan        nan 0.85054945 0.86153846 0.86373626 0.86153846\n",
            "        nan        nan        nan        nan 0.87472527 0.88131868\n",
            " 0.88351648 0.89010989        nan        nan        nan        nan\n",
            " 0.88791209 0.8967033  0.8967033  0.8989011         nan        nan\n",
            "        nan        nan 0.90549451 0.90549451 0.90989011 0.91428571\n",
            "        nan        nan        nan        nan 0.91428571 0.91648352\n",
            " 0.91428571 0.93186813        nan        nan        nan        nan\n",
            " 0.91648352 0.92307692 0.92967033 0.93846154        nan        nan\n",
            "        nan        nan 0.91868132 0.93186813 0.93406593 0.94065934\n",
            "        nan        nan        nan        nan 0.92087912 0.93406593\n",
            " 0.93186813 0.94505495        nan        nan        nan        nan\n",
            " 0.92527473 0.93406593 0.93846154 0.94285714        nan        nan\n",
            "        nan        nan 0.92747253 0.93406593 0.94065934 0.94945055\n",
            "        nan        nan        nan        nan 0.92747253 0.93406593\n",
            " 0.94945055 0.95604396        nan        nan        nan        nan\n",
            " 0.92747253 0.93626374 0.94945055 0.95604396        nan        nan\n",
            "        nan        nan 0.92967033 0.94065934 0.95384615 0.96703297\n",
            "        nan        nan        nan        nan 0.93406593 0.94285714\n",
            " 0.94945055 0.96923077        nan        nan        nan        nan\n",
            " 0.93846154 0.94285714 0.95384615 0.96923077        nan        nan\n",
            "        nan        nan 0.93626374 0.94285714 0.95384615 0.97142857\n",
            "        nan        nan        nan        nan 0.94065934 0.94725275\n",
            " 0.95604396 0.96923077        nan        nan        nan        nan\n",
            " 0.94285714 0.94285714 0.95604396 0.96923077        nan        nan\n",
            "        nan        nan 0.94285714 0.94285714 0.95604396 0.97362637\n",
            "        nan        nan        nan        nan 0.94505495 0.94285714\n",
            " 0.96043956 0.97362637        nan        nan        nan        nan\n",
            " 0.94505495 0.94285714 0.96043956 0.97362637        nan        nan\n",
            "        nan        nan 0.94505495 0.94285714 0.96043956 0.97362637\n",
            "        nan        nan        nan        nan 0.94505495 0.94285714\n",
            " 0.96043956 0.97362637        nan        nan        nan        nan\n",
            " 0.94505495 0.94505495 0.96043956 0.97142857        nan        nan\n",
            "        nan        nan 0.94505495 0.94505495 0.96043956 0.97142857\n",
            "        nan        nan        nan        nan 0.94505495 0.94505495\n",
            " 0.96043956 0.97142857        nan        nan        nan        nan\n",
            " 0.94505495 0.94505495 0.96043956 0.97142857        nan        nan\n",
            "        nan        nan 0.94505495 0.94505495 0.96043956 0.97142857\n",
            "        nan        nan        nan        nan 0.94505495 0.94505495\n",
            " 0.95824176 0.97142857        nan        nan        nan        nan\n",
            " 0.94505495 0.94505495 0.95824176 0.97142857        nan        nan\n",
            "        nan        nan 0.94505495 0.94505495 0.95824176 0.97142857\n",
            "        nan        nan        nan        nan 0.94505495 0.94505495\n",
            " 0.95824176 0.97142857        nan        nan        nan        nan\n",
            " 0.94505495 0.94505495 0.95824176 0.97142857        nan        nan\n",
            "        nan        nan 0.94505495 0.94505495 0.95824176 0.97142857\n",
            "        nan        nan        nan        nan 0.94505495 0.94505495\n",
            " 0.95824176 0.97142857        nan        nan        nan        nan\n",
            " 0.94505495 0.94505495 0.95824176 0.97142857        nan        nan\n",
            "        nan        nan 0.94505495 0.94505495 0.95824176 0.97142857\n",
            "        nan        nan        nan        nan 0.94505495 0.94505495\n",
            " 0.95824176 0.97142857        nan        nan        nan        nan\n",
            " 0.94505495 0.94505495 0.95824176 0.97142857        nan        nan\n",
            "        nan        nan 0.94505495 0.94505495 0.95824176 0.97142857\n",
            "        nan        nan        nan        nan 0.94505495 0.94505495\n",
            " 0.95824176 0.97142857        nan        nan        nan        nan\n",
            " 0.94505495 0.94505495 0.95824176 0.97142857        nan        nan\n",
            "        nan        nan 0.94505495 0.94505495 0.95824176 0.97142857\n",
            "        nan        nan        nan        nan 0.94505495 0.94505495\n",
            " 0.95824176 0.97142857        nan        nan        nan        nan\n",
            " 0.94505495 0.94505495 0.95824176 0.97142857]\n",
            "  category=UserWarning,\n",
            "/usr/local/lib/python3.7/dist-packages/sklearn/model_selection/_validation.py:372: FitFailedWarning: \n",
            "1000 fits failed out of a total of 2000.\n",
            "The score on these train-test partitions for these parameters will be set to nan.\n",
            "If these failures are not expected, you can try to debug them by setting error_score='raise'.\n",
            "\n",
            "Below are more details about the failures:\n",
            "--------------------------------------------------------------------------------\n",
            "1000 fits failed with the following error:\n",
            "Traceback (most recent call last):\n",
            "  File \"/usr/local/lib/python3.7/dist-packages/sklearn/model_selection/_validation.py\", line 680, in _fit_and_score\n",
            "    estimator.fit(X_train, y_train, **fit_params)\n",
            "  File \"/usr/local/lib/python3.7/dist-packages/sklearn/pipeline.py\", line 394, in fit\n",
            "    self._final_estimator.fit(Xt, y, **fit_params_last_step)\n",
            "  File \"/usr/local/lib/python3.7/dist-packages/sklearn/linear_model/_logistic.py\", line 1461, in fit\n",
            "    solver = _check_solver(self.solver, self.penalty, self.dual)\n",
            "  File \"/usr/local/lib/python3.7/dist-packages/sklearn/linear_model/_logistic.py\", line 449, in _check_solver\n",
            "    % (solver, penalty)\n",
            "ValueError: Solver lbfgs supports only 'l2' or 'none' penalties, got l1 penalty.\n",
            "\n",
            "  warnings.warn(some_fits_failed_message, FitFailedWarning)\n",
            "/usr/local/lib/python3.7/dist-packages/sklearn/model_selection/_search.py:972: UserWarning: One or more of the test scores are non-finite: [       nan        nan        nan        nan 0.63516484 0.63296703\n",
            " 0.63296703 0.63296703        nan        nan        nan        nan\n",
            " 0.66153846 0.65934066 0.65934066 0.65934066        nan        nan\n",
            "        nan        nan 0.67912088 0.68351648 0.68571429 0.68571429\n",
            "        nan        nan        nan        nan 0.74945055 0.74285714\n",
            " 0.74945055 0.75164835        nan        nan        nan        nan\n",
            " 0.8043956  0.80659341 0.80659341 0.80879121        nan        nan\n",
            "        nan        nan 0.83956044 0.85274725 0.85274725 0.85274725\n",
            "        nan        nan        nan        nan 0.86593407 0.87692308\n",
            " 0.87692308 0.88131868        nan        nan        nan        nan\n",
            " 0.87472527 0.89010989 0.89010989 0.89450549        nan        nan\n",
            "        nan        nan 0.8989011  0.90549451 0.90769231 0.91428571\n",
            "        nan        nan        nan        nan 0.91428571 0.92307692\n",
            " 0.92307692 0.92967033        nan        nan        nan        nan\n",
            " 0.92527473 0.93186813 0.93186813 0.94065934        nan        nan\n",
            "        nan        nan 0.92527473 0.93626374 0.94065934 0.94505495\n",
            "        nan        nan        nan        nan 0.92307692 0.94285714\n",
            " 0.94505495 0.94725275        nan        nan        nan        nan\n",
            " 0.92527473 0.94065934 0.94725275 0.95164835        nan        nan\n",
            "        nan        nan 0.92527473 0.94285714 0.95384615 0.95384615\n",
            "        nan        nan        nan        nan 0.93186813 0.94505495\n",
            " 0.96043956 0.96263736        nan        nan        nan        nan\n",
            " 0.93406593 0.94285714 0.96263736 0.97362637        nan        nan\n",
            "        nan        nan 0.93846154 0.94505495 0.96263736 0.97582418\n",
            "        nan        nan        nan        nan 0.94065934 0.94725275\n",
            " 0.96483516 0.97362637        nan        nan        nan        nan\n",
            " 0.94065934 0.94945055 0.96483516 0.97142857        nan        nan\n",
            "        nan        nan 0.94285714 0.94725275 0.96703297 0.97142857\n",
            "        nan        nan        nan        nan 0.94505495 0.94725275\n",
            " 0.96703297 0.96923077        nan        nan        nan        nan\n",
            " 0.94725275 0.94945055 0.96483516 0.96263736        nan        nan\n",
            "        nan        nan 0.94945055 0.95164835 0.96483516 0.95824176\n",
            "        nan        nan        nan        nan 0.94945055 0.95164835\n",
            " 0.96483516 0.95824176        nan        nan        nan        nan\n",
            " 0.94945055 0.94945055 0.96483516 0.95824176        nan        nan\n",
            "        nan        nan 0.94945055 0.94725275 0.96483516 0.96043956\n",
            "        nan        nan        nan        nan 0.94945055 0.94725275\n",
            " 0.96263736 0.96483516        nan        nan        nan        nan\n",
            " 0.94945055 0.94725275 0.96263736 0.96483516        nan        nan\n",
            "        nan        nan 0.94945055 0.94725275 0.96263736 0.96483516\n",
            "        nan        nan        nan        nan 0.94725275 0.94725275\n",
            " 0.96263736 0.96483516        nan        nan        nan        nan\n",
            " 0.94725275 0.94725275 0.96263736 0.96703297        nan        nan\n",
            "        nan        nan 0.94725275 0.94725275 0.96263736 0.96703297\n",
            "        nan        nan        nan        nan 0.94945055 0.94725275\n",
            " 0.96263736 0.96703297        nan        nan        nan        nan\n",
            " 0.94945055 0.94725275 0.96043956 0.96703297        nan        nan\n",
            "        nan        nan 0.94945055 0.94725275 0.96043956 0.96703297\n",
            "        nan        nan        nan        nan 0.94945055 0.94725275\n",
            " 0.96043956 0.96703297        nan        nan        nan        nan\n",
            " 0.94945055 0.94725275 0.96043956 0.96703297        nan        nan\n",
            "        nan        nan 0.94945055 0.94725275 0.96043956 0.96703297\n",
            "        nan        nan        nan        nan 0.94945055 0.94725275\n",
            " 0.96043956 0.96703297        nan        nan        nan        nan\n",
            " 0.94945055 0.94725275 0.96043956 0.96703297        nan        nan\n",
            "        nan        nan 0.94945055 0.94725275 0.96043956 0.96703297\n",
            "        nan        nan        nan        nan 0.94945055 0.94725275\n",
            " 0.96043956 0.96703297        nan        nan        nan        nan\n",
            " 0.94945055 0.94725275 0.96043956 0.96703297        nan        nan\n",
            "        nan        nan 0.94945055 0.94725275 0.96043956 0.96703297\n",
            "        nan        nan        nan        nan 0.94945055 0.94725275\n",
            " 0.96043956 0.96703297        nan        nan        nan        nan\n",
            " 0.94945055 0.94725275 0.96043956 0.96703297        nan        nan\n",
            "        nan        nan 0.94945055 0.94725275 0.96043956 0.96703297\n",
            "        nan        nan        nan        nan 0.94945055 0.94725275\n",
            " 0.96043956 0.96703297        nan        nan        nan        nan\n",
            " 0.94945055 0.94725275 0.96043956 0.96703297]\n",
            "  category=UserWarning,\n",
            "/usr/local/lib/python3.7/dist-packages/sklearn/model_selection/_validation.py:372: FitFailedWarning: \n",
            "1000 fits failed out of a total of 2000.\n",
            "The score on these train-test partitions for these parameters will be set to nan.\n",
            "If these failures are not expected, you can try to debug them by setting error_score='raise'.\n",
            "\n",
            "Below are more details about the failures:\n",
            "--------------------------------------------------------------------------------\n",
            "1000 fits failed with the following error:\n",
            "Traceback (most recent call last):\n",
            "  File \"/usr/local/lib/python3.7/dist-packages/sklearn/model_selection/_validation.py\", line 680, in _fit_and_score\n",
            "    estimator.fit(X_train, y_train, **fit_params)\n",
            "  File \"/usr/local/lib/python3.7/dist-packages/sklearn/pipeline.py\", line 394, in fit\n",
            "    self._final_estimator.fit(Xt, y, **fit_params_last_step)\n",
            "  File \"/usr/local/lib/python3.7/dist-packages/sklearn/linear_model/_logistic.py\", line 1461, in fit\n",
            "    solver = _check_solver(self.solver, self.penalty, self.dual)\n",
            "  File \"/usr/local/lib/python3.7/dist-packages/sklearn/linear_model/_logistic.py\", line 449, in _check_solver\n",
            "    % (solver, penalty)\n",
            "ValueError: Solver lbfgs supports only 'l2' or 'none' penalties, got l1 penalty.\n",
            "\n",
            "  warnings.warn(some_fits_failed_message, FitFailedWarning)\n",
            "/usr/local/lib/python3.7/dist-packages/sklearn/model_selection/_search.py:972: UserWarning: One or more of the test scores are non-finite: [       nan        nan        nan        nan 0.63597707 0.63597707\n",
            " 0.63597707 0.63597707        nan        nan        nan        nan\n",
            " 0.6623268  0.6579312  0.660129   0.6579312         nan        nan\n",
            "        nan        nan 0.69522217 0.69739608 0.69302437 0.69519828\n",
            "        nan        nan        nan        nan 0.74558051 0.75654563\n",
            " 0.76091734 0.76091734        nan        nan        nan        nan\n",
            " 0.81139513 0.80475394 0.80475394 0.80914955        nan        nan\n",
            "        nan        nan 0.83320592 0.85293837 0.85074056 0.84854276\n",
            "        nan        nan        nan        nan 0.86614907 0.87052078\n",
            " 0.8748925  0.8748925         nan        nan        nan        nan\n",
            " 0.8859054  0.89025323 0.89464883 0.90121835        nan        nan\n",
            "        nan        nan 0.90566173 0.91003344 0.91440516 0.91657907\n",
            "        nan        nan        nan        nan 0.91442905 0.92319637\n",
            " 0.92756808 0.93196369        nan        nan        nan        nan\n",
            " 0.92322026 0.93196369 0.93416149 0.9385571         nan        nan\n",
            "        nan        nan 0.92104634 0.94512661 0.93853321 0.94510272\n",
            "        nan        nan        nan        nan 0.92759197 0.93858098\n",
            " 0.94512661 0.94949833        nan        nan        nan        nan\n",
            " 0.93416149 0.93860487 0.94730053 0.95169613        nan        nan\n",
            "        nan        nan 0.93416149 0.94080268 0.95169613 0.95387004\n",
            "        nan        nan        nan        nan 0.93196369 0.94519828\n",
            " 0.96266125 0.96046345        nan        nan        nan        nan\n",
            " 0.94073101 0.94517439 0.96266125 0.96488294        nan        nan\n",
            "        nan        nan 0.93853321 0.9473483  0.96046345 0.96490683\n",
            "        nan        nan        nan        nan 0.93853321 0.9451505\n",
            " 0.96266125 0.96490683        nan        nan        nan        nan\n",
            " 0.94292881 0.9473483  0.96046345 0.96490683        nan        nan\n",
            "        nan        nan 0.94292881 0.9451505  0.96046345 0.95831343\n",
            "        nan        nan        nan        nan 0.9451505  0.94297659\n",
            " 0.96266125 0.96488294        nan        nan        nan        nan\n",
            " 0.9473483  0.94517439 0.96485905 0.96927855        nan        nan\n",
            "        nan        nan 0.9473483  0.94517439 0.96485905 0.97147635\n",
            "        nan        nan        nan        nan 0.94954611 0.94517439\n",
            " 0.96266125 0.97147635        nan        nan        nan        nan\n",
            " 0.95174391 0.94297659 0.96485905 0.97147635        nan        nan\n",
            "        nan        nan 0.95174391 0.94297659 0.96485905 0.97147635\n",
            "        nan        nan        nan        nan 0.95394171 0.94297659\n",
            " 0.96705686 0.96927855        nan        nan        nan        nan\n",
            " 0.95394171 0.94297659 0.96705686 0.96927855        nan        nan\n",
            "        nan        nan 0.95394171 0.94297659 0.96705686 0.96927855\n",
            "        nan        nan        nan        nan 0.95394171 0.94297659\n",
            " 0.96705686 0.96927855        nan        nan        nan        nan\n",
            " 0.95394171 0.94297659 0.96705686 0.96927855        nan        nan\n",
            "        nan        nan 0.95394171 0.94297659 0.96705686 0.96927855\n",
            "        nan        nan        nan        nan 0.95394171 0.94297659\n",
            " 0.96705686 0.96927855        nan        nan        nan        nan\n",
            " 0.95394171 0.94297659 0.96705686 0.96927855        nan        nan\n",
            "        nan        nan 0.95394171 0.94297659 0.96705686 0.96927855\n",
            "        nan        nan        nan        nan 0.95394171 0.94297659\n",
            " 0.96705686 0.96927855        nan        nan        nan        nan\n",
            " 0.95394171 0.94297659 0.96705686 0.96927855        nan        nan\n",
            "        nan        nan 0.95394171 0.94297659 0.96705686 0.96927855\n",
            "        nan        nan        nan        nan 0.95394171 0.94297659\n",
            " 0.96705686 0.96927855        nan        nan        nan        nan\n",
            " 0.95394171 0.94297659 0.96705686 0.96927855        nan        nan\n",
            "        nan        nan 0.95394171 0.94297659 0.96705686 0.96927855\n",
            "        nan        nan        nan        nan 0.95394171 0.94297659\n",
            " 0.96705686 0.96927855        nan        nan        nan        nan\n",
            " 0.95394171 0.94297659 0.96705686 0.96927855        nan        nan\n",
            "        nan        nan 0.95394171 0.94297659 0.96705686 0.96927855\n",
            "        nan        nan        nan        nan 0.95394171 0.94297659\n",
            " 0.96705686 0.96927855        nan        nan        nan        nan\n",
            " 0.95394171 0.94297659 0.96705686 0.96927855        nan        nan\n",
            "        nan        nan 0.95394171 0.94297659 0.96705686 0.96927855\n",
            "        nan        nan        nan        nan 0.95394171 0.94297659\n",
            " 0.96705686 0.96927855        nan        nan        nan        nan\n",
            " 0.95394171 0.94297659 0.96705686 0.96927855]\n",
            "  category=UserWarning,\n"
          ]
        },
        {
          "output_type": "execute_result",
          "data": {
            "text/plain": [
              "array([0.96491228, 0.94736842, 0.97368421, 0.95614035, 0.99115044])"
            ]
          },
          "metadata": {},
          "execution_count": 119
        }
      ]
    },
    {
      "cell_type": "markdown",
      "metadata": {
        "id": "5CziJfApanwH"
      },
      "source": [
        "\n",
        "\n",
        "# Ejercicios \n",
        "\n",
        "Dados los siguientes datos, la representación gráfica de las variables numéricas y la accuracy de un KNN."
      ]
    },
    {
      "cell_type": "code",
      "metadata": {
        "id": "MNQHAkmkanwI"
      },
      "source": [
        "import pandas as pd"
      ],
      "execution_count": 120,
      "outputs": []
    },
    {
      "cell_type": "code",
      "metadata": {
        "id": "Hvpt0AFqanwL"
      },
      "source": [
        "X_train = pd.read_csv('https://github.com/al34n1x/DataScience/raw/master/data/X_train.csv',squeeze=True, delimiter=',')\n",
        "Y_train = pd.read_csv('https://github.com/al34n1x/DataScience/raw/master/data/Y_train.csv',squeeze=True, delimiter=',')\n",
        "X_test = pd.read_csv('https://github.com/al34n1x/DataScience/raw/master/data/X_test.csv',squeeze=True, delimiter=',')\n",
        "Y_test = pd.read_csv('https://github.com/al34n1x/DataScience/raw/master/data/Y_test.csv',squeeze=True, delimiter=',')"
      ],
      "execution_count": 121,
      "outputs": []
    },
    {
      "cell_type": "code",
      "metadata": {
        "id": "ij7GLyYHanwN",
        "colab": {
          "base_uri": "https://localhost:8080/"
        },
        "outputId": "14ceb31d-7531-4e32-e3cc-cf934065034e"
      },
      "source": [
        "print (X_train.head())"
      ],
      "execution_count": 122,
      "outputs": [
        {
          "output_type": "stream",
          "name": "stdout",
          "text": [
            "    Loan_ID Gender Married Dependents Education Self_Employed  \\\n",
            "0  LP001032   Male      No          0  Graduate            No   \n",
            "1  LP001824   Male     Yes          1  Graduate            No   \n",
            "2  LP002928   Male     Yes          0  Graduate            No   \n",
            "3  LP001814   Male     Yes          2  Graduate            No   \n",
            "4  LP002244   Male     Yes          0  Graduate            No   \n",
            "\n",
            "   ApplicantIncome  CoapplicantIncome  LoanAmount  Loan_Amount_Term  \\\n",
            "0             4950                0.0         125               360   \n",
            "1             2882             1843.0         123               480   \n",
            "2             3000             3416.0          56               180   \n",
            "3             9703                0.0         112               360   \n",
            "4             2333             2417.0         136               360   \n",
            "\n",
            "   Credit_History Property_Area  \n",
            "0               1         Urban  \n",
            "1               1     Semiurban  \n",
            "2               1     Semiurban  \n",
            "3               1         Urban  \n",
            "4               1         Urban  \n"
          ]
        }
      ]
    },
    {
      "cell_type": "code",
      "metadata": {
        "id": "ida3RSeFanwQ"
      },
      "source": [
        "import matplotlib.pyplot as plt\n",
        "%matplotlib inline"
      ],
      "execution_count": 123,
      "outputs": []
    },
    {
      "cell_type": "markdown",
      "metadata": {
        "id": "-G4iPlimanwS"
      },
      "source": [
        "\n",
        "\n",
        "Representamos las variables numéricas"
      ]
    },
    {
      "cell_type": "code",
      "metadata": {
        "id": "eLBUQs3ZanwT",
        "colab": {
          "base_uri": "https://localhost:8080/",
          "height": 786
        },
        "outputId": "c08b5fed-eb16-45db-ddbf-9baba2815741"
      },
      "source": [
        "X_train[X_train.dtypes[(X_train.dtypes==\"float64\")|(X_train.dtypes==\"int64\")]\n",
        "                        .index.values].hist(figsize=[11,11])"
      ],
      "execution_count": 124,
      "outputs": [
        {
          "output_type": "execute_result",
          "data": {
            "text/plain": [
              "array([[<matplotlib.axes._subplots.AxesSubplot object at 0x7f2f342dcc90>,\n",
              "        <matplotlib.axes._subplots.AxesSubplot object at 0x7f2f32b81050>],\n",
              "       [<matplotlib.axes._subplots.AxesSubplot object at 0x7f2f31e8bb90>,\n",
              "        <matplotlib.axes._subplots.AxesSubplot object at 0x7f2f31e71350>],\n",
              "       [<matplotlib.axes._subplots.AxesSubplot object at 0x7f2f31f2b7d0>,\n",
              "        <matplotlib.axes._subplots.AxesSubplot object at 0x7f2f31d23dd0>]],\n",
              "      dtype=object)"
            ]
          },
          "metadata": {},
          "execution_count": 124
        },
        {
          "output_type": "display_data",
          "data": {
            "text/plain": [
              "<Figure size 792x792 with 6 Axes>"
            ],
            "image/png": "[encoded data removed]"
          },
          "metadata": {
            "needs_background": "light"
          }
        }
      ]
    },
    {
      "cell_type": "markdown",
      "metadata": {
        "id": "c3eOlnAUanwW"
      },
      "source": [
        "\n",
        "\n",
        "Ajustamos a un modelo KNN"
      ]
    },
    {
      "cell_type": "code",
      "metadata": {
        "id": "D2-zEa67anwX",
        "colab": {
          "base_uri": "https://localhost:8080/"
        },
        "outputId": "207e9416-34a2-4ca9-9120-020372531e78"
      },
      "source": [
        "from sklearn.neighbors import KNeighborsClassifier\n",
        "knn=KNeighborsClassifier(n_neighbors=5)\n",
        "knn.fit(X_train[['ApplicantIncome', 'CoapplicantIncome','LoanAmount', \n",
        "                   'Loan_Amount_Term', 'Credit_History']],Y_train)"
      ],
      "execution_count": 125,
      "outputs": [
        {
          "output_type": "execute_result",
          "data": {
            "text/plain": [
              "KNeighborsClassifier()"
            ]
          },
          "metadata": {},
          "execution_count": 125
        }
      ]
    },
    {
      "cell_type": "markdown",
      "metadata": {
        "id": "PpdFX5-lanwZ"
      },
      "source": [
        "\n",
        "\n",
        "Obtenemos el valor de accuracy"
      ]
    },
    {
      "cell_type": "code",
      "metadata": {
        "id": "8Z1SPjmGanwa",
        "colab": {
          "base_uri": "https://localhost:8080/"
        },
        "outputId": "bef33d86-d952-40d5-d199-0a9d41baced0"
      },
      "source": [
        "from sklearn.metrics import accuracy_score\n",
        "accuracy_score(Y_test,knn.predict(X_test[['ApplicantIncome', 'CoapplicantIncome',\n",
        "                             'LoanAmount', 'Loan_Amount_Term', 'Credit_History']]))"
      ],
      "execution_count": 126,
      "outputs": [
        {
          "output_type": "execute_result",
          "data": {
            "text/plain": [
              "0.6145833333333334"
            ]
          },
          "metadata": {},
          "execution_count": 126
        }
      ]
    },
    {
      "cell_type": "markdown",
      "metadata": {
        "id": "9zmE6ElManwc"
      },
      "source": [
        "\n",
        "\n",
        "- a. Realice un escalado min/max sobre las variables numéricas y represente su distribución.\n",
        "- b. Estudie como afecta al resultado del clasificador la aplicación de un escalado min/max."
      ]
    },
    {
      "cell_type": "markdown",
      "metadata": {
        "id": "Xy7VBlBAanwc"
      },
      "source": [
        "\n",
        "\n",
        "Realice un escalado min/max sobre las variables numéricas y represente su distribución."
      ]
    },
    {
      "cell_type": "code",
      "metadata": {
        "id": "u61Z7fj3anwd"
      },
      "source": [
        "# Respuesta\n",
        "\n",
        "#Ajustamos los valores  min/max\n",
        "\n",
        "from sklearn.preprocessing import MinMaxScaler\n",
        "min_max=MinMaxScaler()\n",
        "\n",
        "\n",
        "#Hacemos esclado a train y test\n",
        "X_train_minmax=min_max.fit_transform(X_train[['ApplicantIncome', 'CoapplicantIncome',\n",
        "                'LoanAmount', 'Loan_Amount_Term', 'Credit_History']])\n",
        "X_test_minmax=min_max.fit_transform(X_test[['ApplicantIncome', 'CoapplicantIncome',\n",
        "                'LoanAmount', 'Loan_Amount_Term', 'Credit_History']])"
      ],
      "execution_count": 127,
      "outputs": []
    },
    {
      "cell_type": "code",
      "metadata": {
        "id": "_HyM5f-Fanwf",
        "colab": {
          "base_uri": "https://localhost:8080/",
          "height": 206
        },
        "outputId": "fd7c7034-8b23-4b71-a810-cc24b7a0c055"
      },
      "source": [
        "# Respuesta\n",
        "\n",
        "#Vemos algunos resultados\n",
        "pd.DataFrame(X_train_minmax).iloc[:,0:5].head()"
      ],
      "execution_count": 128,
      "outputs": [
        {
          "output_type": "execute_result",
          "data": {
            "text/plain": [
              "          0         1         2         3    4\n",
              "0  0.059369  0.000000  0.196277  0.729730  1.0\n",
              "1  0.033791  0.054467  0.192893  1.000000  1.0\n",
              "2  0.035250  0.100955  0.079526  0.324324  1.0\n",
              "3  0.118157  0.000000  0.174281  0.729730  1.0\n",
              "4  0.027001  0.071431  0.214890  0.729730  1.0"
            ],
            "text/html": [
              "\n",
              "  <div id=\"df-5e1575a6-ff7b-468b-81c8-9f0aee38b3d5\">\n",
              "    <div class=\"colab-df-container\">\n",
              "      <div>\n",
              "<style scoped>\n",
              "    .dataframe tbody tr th:only-of-type {\n",
              "        vertical-align: middle;\n",
              "    }\n",
              "\n",
              "    .dataframe tbody tr th {\n",
              "        vertical-align: top;\n",
              "    }\n",
              "\n",
              "    .dataframe thead th {\n",
              "        text-align: right;\n",
              "    }\n",
              "</style>\n",
              "<table border=\"1\" class=\"dataframe\">\n",
              "  <thead>\n",
              "    <tr style=\"text-align: right;\">\n",
              "      <th></th>\n",
              "      <th>0</th>\n",
              "      <th>1</th>\n",
              "      <th>2</th>\n",
              "      <th>3</th>\n",
              "      <th>4</th>\n",
              "    </tr>\n",
              "  </thead>\n",
              "  <tbody>\n",
              "    <tr>\n",
              "      <th>0</th>\n",
              "      <td>0.059369</td>\n",
              "      <td>0.000000</td>\n",
              "      <td>0.196277</td>\n",
              "      <td>0.729730</td>\n",
              "      <td>1.0</td>\n",
              "    </tr>\n",
              "    <tr>\n",
              "      <th>1</th>\n",
              "      <td>0.033791</td>\n",
              "      <td>0.054467</td>\n",
              "      <td>0.192893</td>\n",
              "      <td>1.000000</td>\n",
              "      <td>1.0</td>\n",
              "    </tr>\n",
              "    <tr>\n",
              "      <th>2</th>\n",
              "      <td>0.035250</td>\n",
              "      <td>0.100955</td>\n",
              "      <td>0.079526</td>\n",
              "      <td>0.324324</td>\n",
              "      <td>1.0</td>\n",
              "    </tr>\n",
              "    <tr>\n",
              "      <th>3</th>\n",
              "      <td>0.118157</td>\n",
              "      <td>0.000000</td>\n",
              "      <td>0.174281</td>\n",
              "      <td>0.729730</td>\n",
              "      <td>1.0</td>\n",
              "    </tr>\n",
              "    <tr>\n",
              "      <th>4</th>\n",
              "      <td>0.027001</td>\n",
              "      <td>0.071431</td>\n",
              "      <td>0.214890</td>\n",
              "      <td>0.729730</td>\n",
              "      <td>1.0</td>\n",
              "    </tr>\n",
              "  </tbody>\n",
              "</table>\n",
              "</div>\n",
              "      <button class=\"colab-df-convert\" onclick=\"convertToInteractive('df-5e1575a6-ff7b-468b-81c8-9f0aee38b3d5')\"\n",
              "              title=\"Convert this dataframe to an interactive table.\"\n",
              "              style=\"display:none;\">\n",
              "        \n",
              "  <svg xmlns=\"http://www.w3.org/2000/svg\" height=\"24px\"viewBox=\"0 0 24 24\"\n",
              "       width=\"24px\">\n",
              "    <path d=\"M0 0h24v24H0V0z\" fill=\"none\"/>\n",
              "    <path d=\"M18.56 5.44l.94 2.06.94-2.06 2.06-.94-2.06-.94-.94-2.06-.94 2.06-2.06.94zm-11 1L8.5 8.5l.94-2.06 2.06-.94-2.06-.94L8.5 2.5l-.94 2.06-2.06.94zm10 10l.94 2.06.94-2.06 2.06-.94-2.06-.94-.94-2.06-.94 2.06-2.06.94z\"/><path d=\"M17.41 7.96l-1.37-1.37c-.4-.4-.92-.59-1.43-.59-.52 0-1.04.2-1.43.59L10.3 9.45l-7.72 7.72c-.78.78-.78 2.05 0 2.83L4 21.41c.39.39.9.59 1.41.59.51 0 1.02-.2 1.41-.59l7.78-7.78 2.81-2.81c.8-.78.8-2.07 0-2.86zM5.41 20L4 18.59l7.72-7.72 1.47 1.35L5.41 20z\"/>\n",
              "  </svg>\n",
              "      </button>\n",
              "      \n",
              "  <style>\n",
              "    .colab-df-container {\n",
              "      display:flex;\n",
              "      flex-wrap:wrap;\n",
              "      gap: 12px;\n",
              "    }\n",
              "\n",
              "    .colab-df-convert {\n",
              "      background-color: #E8F0FE;\n",
              "      border: none;\n",
              "      border-radius: 50%;\n",
              "      cursor: pointer;\n",
              "      display: none;\n",
              "      fill: #1967D2;\n",
              "      height: 32px;\n",
              "      padding: 0 0 0 0;\n",
              "      width: 32px;\n",
              "    }\n",
              "\n",
              "    .colab-df-convert:hover {\n",
              "      background-color: #E2EBFA;\n",
              "      box-shadow: 0px 1px 2px rgba(60, 64, 67, 0.3), 0px 1px 3px 1px rgba(60, 64, 67, 0.15);\n",
              "      fill: #174EA6;\n",
              "    }\n",
              "\n",
              "    [theme=dark] .colab-df-convert {\n",
              "      background-color: #3B4455;\n",
              "      fill: #D2E3FC;\n",
              "    }\n",
              "\n",
              "    [theme=dark] .colab-df-convert:hover {\n",
              "      background-color: #434B5C;\n",
              "      box-shadow: 0px 1px 3px 1px rgba(0, 0, 0, 0.15);\n",
              "      filter: drop-shadow(0px 1px 2px rgba(0, 0, 0, 0.3));\n",
              "      fill: #FFFFFF;\n",
              "    }\n",
              "  </style>\n",
              "\n",
              "      <script>\n",
              "        const buttonEl =\n",
              "          document.querySelector('#df-5e1575a6-ff7b-468b-81c8-9f0aee38b3d5 button.colab-df-convert');\n",
              "        buttonEl.style.display =\n",
              "          google.colab.kernel.accessAllowed ? 'block' : 'none';\n",
              "\n",
              "        async function convertToInteractive(key) {\n",
              "          const element = document.querySelector('#df-5e1575a6-ff7b-468b-81c8-9f0aee38b3d5');\n",
              "          const dataTable =\n",
              "            await google.colab.kernel.invokeFunction('convertToInteractive',\n",
              "                                                     [key], {});\n",
              "          if (!dataTable) return;\n",
              "\n",
              "          const docLinkHtml = 'Like what you see? Visit the ' +\n",
              "            '<a target=\"_blank\" href=https://colab.research.google.com/notebooks/data_table.ipynb>data table notebook</a>'\n",
              "            + ' to learn more about interactive tables.';\n",
              "          element.innerHTML = '';\n",
              "          dataTable['output_type'] = 'display_data';\n",
              "          await google.colab.output.renderOutput(dataTable, element);\n",
              "          const docLink = document.createElement('div');\n",
              "          docLink.innerHTML = docLinkHtml;\n",
              "          element.appendChild(docLink);\n",
              "        }\n",
              "      </script>\n",
              "    </div>\n",
              "  </div>\n",
              "  "
            ]
          },
          "metadata": {},
          "execution_count": 128
        }
      ]
    },
    {
      "cell_type": "code",
      "metadata": {
        "id": "ns_A8COYanwh",
        "colab": {
          "base_uri": "https://localhost:8080/",
          "height": 786
        },
        "outputId": "f70688ec-a629-48bb-b096-3349a366f6f9"
      },
      "source": [
        "# Respuesta\n",
        "\n",
        "#Mostramos la data escalada\n",
        "pd.DataFrame(X_train_minmax).hist(figsize=[11,11])"
      ],
      "execution_count": 129,
      "outputs": [
        {
          "output_type": "execute_result",
          "data": {
            "text/plain": [
              "array([[<matplotlib.axes._subplots.AxesSubplot object at 0x7f2f31c7cbd0>,\n",
              "        <matplotlib.axes._subplots.AxesSubplot object at 0x7f2f31bdd750>],\n",
              "       [<matplotlib.axes._subplots.AxesSubplot object at 0x7f2f31b8cd50>,\n",
              "        <matplotlib.axes._subplots.AxesSubplot object at 0x7f2f31b4a390>],\n",
              "       [<matplotlib.axes._subplots.AxesSubplot object at 0x7f2f31b7f990>,\n",
              "        <matplotlib.axes._subplots.AxesSubplot object at 0x7f2f31b36f90>]],\n",
              "      dtype=object)"
            ]
          },
          "metadata": {},
          "execution_count": 129
        },
        {
          "output_type": "display_data",
          "data": {
            "text/plain": [
              "<Figure size 792x792 with 6 Axes>"
            ],
            "image/png": "[encoded data removed]"
          },
          "metadata": {
            "needs_background": "light"
          }
        }
      ]
    },
    {
      "cell_type": "markdown",
      "metadata": {
        "id": "6BXgTM2Hanwk"
      },
      "source": [
        "\n",
        "\n",
        "Estudie como afecta al resultado del clasificador la aplicación de un escalado min/max."
      ]
    },
    {
      "cell_type": "code",
      "metadata": {
        "id": "amA5AhALanwk",
        "colab": {
          "base_uri": "https://localhost:8080/"
        },
        "outputId": "822ff777-4d1d-41eb-e593-5aff2b92ddf4"
      },
      "source": [
        "# Respuesta\n",
        "\n",
        "#We adjust the model with the scaled data\n",
        "\n",
        "knn=KNeighborsClassifier(n_neighbors=5)\n",
        "knn.fit(X_train_minmax,Y_train)\n",
        "\n",
        "#Let's check the new accuracy\n",
        "\n",
        "accuracy_score(Y_test,knn.predict(X_test_minmax))"
      ],
      "execution_count": 130,
      "outputs": [
        {
          "output_type": "execute_result",
          "data": {
            "text/plain": [
              "0.75"
            ]
          },
          "metadata": {},
          "execution_count": 130
        }
      ]
    },
    {
      "cell_type": "markdown",
      "source": [
        ""
      ],
      "metadata": {
        "id": "uOexmLeC2RqY"
      }
    },
    {
      "cell_type": "code",
      "source": [
        "###Standard"
      ],
      "metadata": {
        "id": "yX1e00sa2Ub7"
      },
      "execution_count": 131,
      "outputs": []
    },
    {
      "cell_type": "markdown",
      "metadata": {
        "id": "P7dmdpVT2Ule"
      },
      "source": [
        "\n",
        "\n",
        "- a. Realice un escalado min/max sobre las variables numéricas y represente su distribución.\n",
        "- b. Estudie como afecta al resultado del clasificador la aplicación de un escalado min/max."
      ]
    },
    {
      "cell_type": "markdown",
      "metadata": {
        "id": "4GX23o2r2Ulf"
      },
      "source": [
        "\n",
        "\n",
        "Realice un escalado min/max sobre las variables numéricas y represente su distribución."
      ]
    },
    {
      "cell_type": "code",
      "metadata": {
        "id": "WogOI3Xq2Ulf"
      },
      "source": [
        "# Respuesta\n",
        "\n",
        "#Ajustamos los valores  min/max\n",
        "\n",
        "from sklearn.preprocessing import MinMaxScaler\n",
        "min_max=preprocessing.StandardScaler()\n",
        "#scaler = preprocessing.StandardScaler()\n",
        "\n",
        "#Hacemos esclado a train y test\n",
        "X_train_minmax=min_max.fit_transform(X_train[['ApplicantIncome', 'CoapplicantIncome',\n",
        "                'LoanAmount', 'Loan_Amount_Term', 'Credit_History']])\n",
        "X_test_minmax=min_max.fit_transform(X_test[['ApplicantIncome', 'CoapplicantIncome',\n",
        "                'LoanAmount', 'Loan_Amount_Term', 'Credit_History']])"
      ],
      "execution_count": 132,
      "outputs": []
    },
    {
      "cell_type": "code",
      "metadata": {
        "colab": {
          "base_uri": "https://localhost:8080/",
          "height": 206
        },
        "outputId": "1d2fdae2-9bca-4ed5-e245-bf910e971631",
        "id": "H7F13b872Ulg"
      },
      "source": [
        "# Respuesta\n",
        "\n",
        "#Vemos algunos resultados\n",
        "pd.DataFrame(X_train_minmax).iloc[:,0:5].head()"
      ],
      "execution_count": 133,
      "outputs": [
        {
          "output_type": "execute_result",
          "data": {
            "text/plain": [
              "          0         1         2         3         4\n",
              "0 -0.037697 -0.599846 -0.219389  0.272293  0.408868\n",
              "1 -0.428032  0.103374 -0.246028  2.097087  0.408868\n",
              "2 -0.405760  0.703571 -1.138429 -2.464897  0.408868\n",
              "3  0.859432 -0.599846 -0.392541  0.272293  0.408868\n",
              "4 -0.531656  0.322390 -0.072875  0.272293  0.408868"
            ],
            "text/html": [
              "\n",
              "  <div id=\"df-9e02d862-08bf-4789-87c1-37cf06ea3127\">\n",
              "    <div class=\"colab-df-container\">\n",
              "      <div>\n",
              "<style scoped>\n",
              "    .dataframe tbody tr th:only-of-type {\n",
              "        vertical-align: middle;\n",
              "    }\n",
              "\n",
              "    .dataframe tbody tr th {\n",
              "        vertical-align: top;\n",
              "    }\n",
              "\n",
              "    .dataframe thead th {\n",
              "        text-align: right;\n",
              "    }\n",
              "</style>\n",
              "<table border=\"1\" class=\"dataframe\">\n",
              "  <thead>\n",
              "    <tr style=\"text-align: right;\">\n",
              "      <th></th>\n",
              "      <th>0</th>\n",
              "      <th>1</th>\n",
              "      <th>2</th>\n",
              "      <th>3</th>\n",
              "      <th>4</th>\n",
              "    </tr>\n",
              "  </thead>\n",
              "  <tbody>\n",
              "    <tr>\n",
              "      <th>0</th>\n",
              "      <td>-0.037697</td>\n",
              "      <td>-0.599846</td>\n",
              "      <td>-0.219389</td>\n",
              "      <td>0.272293</td>\n",
              "      <td>0.408868</td>\n",
              "    </tr>\n",
              "    <tr>\n",
              "      <th>1</th>\n",
              "      <td>-0.428032</td>\n",
              "      <td>0.103374</td>\n",
              "      <td>-0.246028</td>\n",
              "      <td>2.097087</td>\n",
              "      <td>0.408868</td>\n",
              "    </tr>\n",
              "    <tr>\n",
              "      <th>2</th>\n",
              "      <td>-0.405760</td>\n",
              "      <td>0.703571</td>\n",
              "      <td>-1.138429</td>\n",
              "      <td>-2.464897</td>\n",
              "      <td>0.408868</td>\n",
              "    </tr>\n",
              "    <tr>\n",
              "      <th>3</th>\n",
              "      <td>0.859432</td>\n",
              "      <td>-0.599846</td>\n",
              "      <td>-0.392541</td>\n",
              "      <td>0.272293</td>\n",
              "      <td>0.408868</td>\n",
              "    </tr>\n",
              "    <tr>\n",
              "      <th>4</th>\n",
              "      <td>-0.531656</td>\n",
              "      <td>0.322390</td>\n",
              "      <td>-0.072875</td>\n",
              "      <td>0.272293</td>\n",
              "      <td>0.408868</td>\n",
              "    </tr>\n",
              "  </tbody>\n",
              "</table>\n",
              "</div>\n",
              "      <button class=\"colab-df-convert\" onclick=\"convertToInteractive('df-9e02d862-08bf-4789-87c1-37cf06ea3127')\"\n",
              "              title=\"Convert this dataframe to an interactive table.\"\n",
              "              style=\"display:none;\">\n",
              "        \n",
              "  <svg xmlns=\"http://www.w3.org/2000/svg\" height=\"24px\"viewBox=\"0 0 24 24\"\n",
              "       width=\"24px\">\n",
              "    <path d=\"M0 0h24v24H0V0z\" fill=\"none\"/>\n",
              "    <path d=\"M18.56 5.44l.94 2.06.94-2.06 2.06-.94-2.06-.94-.94-2.06-.94 2.06-2.06.94zm-11 1L8.5 8.5l.94-2.06 2.06-.94-2.06-.94L8.5 2.5l-.94 2.06-2.06.94zm10 10l.94 2.06.94-2.06 2.06-.94-2.06-.94-.94-2.06-.94 2.06-2.06.94z\"/><path d=\"M17.41 7.96l-1.37-1.37c-.4-.4-.92-.59-1.43-.59-.52 0-1.04.2-1.43.59L10.3 9.45l-7.72 7.72c-.78.78-.78 2.05 0 2.83L4 21.41c.39.39.9.59 1.41.59.51 0 1.02-.2 1.41-.59l7.78-7.78 2.81-2.81c.8-.78.8-2.07 0-2.86zM5.41 20L4 18.59l7.72-7.72 1.47 1.35L5.41 20z\"/>\n",
              "  </svg>\n",
              "      </button>\n",
              "      \n",
              "  <style>\n",
              "    .colab-df-container {\n",
              "      display:flex;\n",
              "      flex-wrap:wrap;\n",
              "      gap: 12px;\n",
              "    }\n",
              "\n",
              "    .colab-df-convert {\n",
              "      background-color: #E8F0FE;\n",
              "      border: none;\n",
              "      border-radius: 50%;\n",
              "      cursor: pointer;\n",
              "      display: none;\n",
              "      fill: #1967D2;\n",
              "      height: 32px;\n",
              "      padding: 0 0 0 0;\n",
              "      width: 32px;\n",
              "    }\n",
              "\n",
              "    .colab-df-convert:hover {\n",
              "      background-color: #E2EBFA;\n",
              "      box-shadow: 0px 1px 2px rgba(60, 64, 67, 0.3), 0px 1px 3px 1px rgba(60, 64, 67, 0.15);\n",
              "      fill: #174EA6;\n",
              "    }\n",
              "\n",
              "    [theme=dark] .colab-df-convert {\n",
              "      background-color: #3B4455;\n",
              "      fill: #D2E3FC;\n",
              "    }\n",
              "\n",
              "    [theme=dark] .colab-df-convert:hover {\n",
              "      background-color: #434B5C;\n",
              "      box-shadow: 0px 1px 3px 1px rgba(0, 0, 0, 0.15);\n",
              "      filter: drop-shadow(0px 1px 2px rgba(0, 0, 0, 0.3));\n",
              "      fill: #FFFFFF;\n",
              "    }\n",
              "  </style>\n",
              "\n",
              "      <script>\n",
              "        const buttonEl =\n",
              "          document.querySelector('#df-9e02d862-08bf-4789-87c1-37cf06ea3127 button.colab-df-convert');\n",
              "        buttonEl.style.display =\n",
              "          google.colab.kernel.accessAllowed ? 'block' : 'none';\n",
              "\n",
              "        async function convertToInteractive(key) {\n",
              "          const element = document.querySelector('#df-9e02d862-08bf-4789-87c1-37cf06ea3127');\n",
              "          const dataTable =\n",
              "            await google.colab.kernel.invokeFunction('convertToInteractive',\n",
              "                                                     [key], {});\n",
              "          if (!dataTable) return;\n",
              "\n",
              "          const docLinkHtml = 'Like what you see? Visit the ' +\n",
              "            '<a target=\"_blank\" href=https://colab.research.google.com/notebooks/data_table.ipynb>data table notebook</a>'\n",
              "            + ' to learn more about interactive tables.';\n",
              "          element.innerHTML = '';\n",
              "          dataTable['output_type'] = 'display_data';\n",
              "          await google.colab.output.renderOutput(dataTable, element);\n",
              "          const docLink = document.createElement('div');\n",
              "          docLink.innerHTML = docLinkHtml;\n",
              "          element.appendChild(docLink);\n",
              "        }\n",
              "      </script>\n",
              "    </div>\n",
              "  </div>\n",
              "  "
            ]
          },
          "metadata": {},
          "execution_count": 133
        }
      ]
    },
    {
      "cell_type": "code",
      "metadata": {
        "colab": {
          "base_uri": "https://localhost:8080/",
          "height": 786
        },
        "outputId": "f9cd8ea2-e0d0-4602-cef8-4a5ebc33eadc",
        "id": "PZDcxm7Z2Ulh"
      },
      "source": [
        "# Respuesta\n",
        "\n",
        "#Mostramos la data escalada\n",
        "pd.DataFrame(X_train_minmax).hist(figsize=[11,11])"
      ],
      "execution_count": 134,
      "outputs": [
        {
          "output_type": "execute_result",
          "data": {
            "text/plain": [
              "array([[<matplotlib.axes._subplots.AxesSubplot object at 0x7f2f3192d750>,\n",
              "        <matplotlib.axes._subplots.AxesSubplot object at 0x7f2f318d8410>],\n",
              "       [<matplotlib.axes._subplots.AxesSubplot object at 0x7f2f31887910>,\n",
              "        <matplotlib.axes._subplots.AxesSubplot object at 0x7f2f318bce50>],\n",
              "       [<matplotlib.axes._subplots.AxesSubplot object at 0x7f2f3187e350>,\n",
              "        <matplotlib.axes._subplots.AxesSubplot object at 0x7f2f31833850>]],\n",
              "      dtype=object)"
            ]
          },
          "metadata": {},
          "execution_count": 134
        },
        {
          "output_type": "display_data",
          "data": {
            "text/plain": [
              "<Figure size 792x792 with 6 Axes>"
            ],
            "image/png": "[encoded data removed]"
          },
          "metadata": {
            "needs_background": "light"
          }
        }
      ]
    },
    {
      "cell_type": "markdown",
      "metadata": {
        "id": "w5iWbfjO2Ulh"
      },
      "source": [
        "\n",
        "\n",
        "Estudie como afecta al resultado del clasificador la aplicación de un escalado min/max."
      ]
    },
    {
      "cell_type": "code",
      "metadata": {
        "colab": {
          "base_uri": "https://localhost:8080/"
        },
        "outputId": "483a5a31-8a16-42c5-d2ab-c47492a22e11",
        "id": "XZ7SWp8o2Uli"
      },
      "source": [
        "# Respuesta\n",
        "\n",
        "#We adjust the model with the scaled data\n",
        "\n",
        "knn=KNeighborsClassifier(n_neighbors=5)\n",
        "knn.fit(X_train_minmax,Y_train)\n",
        "\n",
        "#Let's check the new accuracy\n",
        "\n",
        "accuracy_score(Y_test,knn.predict(X_test_minmax))"
      ],
      "execution_count": 135,
      "outputs": [
        {
          "output_type": "execute_result",
          "data": {
            "text/plain": [
              "0.71875"
            ]
          },
          "metadata": {},
          "execution_count": 135
        }
      ]
    }
  ]
}