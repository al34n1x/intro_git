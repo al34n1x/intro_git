{
  "nbformat": 4,
  "nbformat_minor": 0,
  "metadata": {
    "colab": {
      "name": "Untitled36.ipynb",
      "provenance": [],
      "collapsed_sections": []
    },
    "kernelspec": {
      "name": "python3",
      "display_name": "Python 3"
    },
    "language_info": {
      "name": "python"
    }
  },
  "cells": [
    {
      "cell_type": "markdown",
      "source": [
        "#Árboles de Decisión"
      ],
      "metadata": {
        "id": "bnQIHRPKpXXP"
      }
    },
    {
      "cell_type": "markdown",
      "source": [
        "##Gráfica dispersión: Edad y Colesterol"
      ],
      "metadata": {
        "id": "sknfasPTpbzr"
      }
    },
    {
      "cell_type": "code",
      "source": [
        "import pandas as pd\n",
        "import matplotlib.pyplot as plt\n",
        "\n",
        "pacientes = pd.read_csv(\"https://raw.githubusercontent.com/CodigoMaquina/code/main/datos/pacientes.csv\")\n",
        "\n",
        "saludables = pacientes[pacientes[\"problema_cardiaco\"]==0]\n",
        "cardiacos = pacientes[pacientes[\"problema_cardiaco\"]==1]\n",
        "\n",
        "plt.figure(figsize=(6, 6))\n",
        "plt.xlabel('Edad', fontsize = 20.0)\n",
        "plt.ylabel('Colesterol', fontsize = 20.0)\n",
        "plt.scatter(saludables[\"edad\"], saludables[\"colesterol\"], \n",
        "            label=\"Saludable (Clase: 0)\", marker=\"*\", c=\"skyblue\", s=200)\n",
        "plt.scatter(cardiacos[\"edad\"], cardiacos[\"colesterol\"],\n",
        "            label=\"Cardíaco (Clase: 1)\", marker=\"*\", c=\"lightcoral\", s=200)\n",
        "plt.legend(bbox_to_anchor=(1, 0.15))\n",
        "plt.show()"
      ],
      "metadata": {
        "id": "-AjS9rhOpY6M"
      },
      "execution_count": null,
      "outputs": []
    },
    {
      "cell_type": "markdown",
      "source": [
        "##Entropía\n",
        "\n",
        "Promedio de información almacenada en una variable aleatoria (ej: lanzamiento de una moneda)\n",
        "\n",
        "La entropia se puede calcular para diferentes bases (base 2, sistema binario). Cuanto mas bajo es el valor de entropía, es porque la probalidad de que ocurra un evento es del 100%. \n",
        "\n",
        "En cambio, será 1 cuando la probabilidad es del 50% en una variable binaria.\n",
        "\n",
        "Cuanto menor sea la probabilidad de ocurrencia, menor valor de entropía.\n",
        "\n",
        "Una entroía igual a 0 no nos sirve de nada, dado que ya sabemos de ante mano que la probabilidad de ocurriencia es del 100% para una de las dos variables.\n",
        "\n"
      ],
      "metadata": {
        "id": "FqHZbRdjp9NX"
      }
    },
    {
      "cell_type": "code",
      "source": [
        "from scipy.stats import entropy\n",
        "from math import log\n",
        "\n",
        "edades = pd.Series([40, 30, 20, 50])\n",
        "colesterol = pd.Series([100, 110, 100, 110])\n",
        "\n",
        "print(edades.value_counts()/edades.size) # contamos cuantas edades hay por cada valor\n",
        "print(colesterol.value_counts()/colesterol.size) # contamos cuantas valores de colesterol hay por cada valor\n",
        "print(entropy(edades.value_counts()/edades.size, base=2))\n",
        "print(entropy(colesterol.value_counts()/colesterol.size, base=2))"
      ],
      "metadata": {
        "colab": {
          "base_uri": "https://localhost:8080/"
        },
        "id": "67X0-aKLqBMy",
        "outputId": "9c529f9d-118c-4be5-b630-0e32cf444900"
      },
      "execution_count": 4,
      "outputs": [
        {
          "output_type": "stream",
          "name": "stdout",
          "text": [
            "40    0.25\n",
            "30    0.25\n",
            "20    0.25\n",
            "50    0.25\n",
            "dtype: float64\n",
            "100    0.5\n",
            "110    0.5\n",
            "dtype: float64\n",
            "2.0\n",
            "1.0\n"
          ]
        }
      ]
    },
    {
      "cell_type": "markdown",
      "source": [
        "Ejemplo de creación de arbol de decisión\n"
      ],
      "metadata": {
        "id": "yf6UFWd2sFMz"
      }
    },
    {
      "cell_type": "code",
      "source": [
        "from sklearn.model_selection import train_test_split\n",
        "\n",
        "#asignamos datos para pruebas y para entrenamiento. El primero está compuesto por el 30%\n",
        "datos_entrena, datos_prueba, clase_entrena, clase_prueba = train_test_split(\n",
        "    pacientes[[\"edad\", \"colesterol\"]], \n",
        "    pacientes[\"problema_cardiaco\"], \n",
        "    test_size=0.30)"
      ],
      "metadata": {
        "id": "1e0WEyAdr7tH"
      },
      "execution_count": 6,
      "outputs": []
    },
    {
      "cell_type": "code",
      "source": [
        "from sklearn import tree #importamos arboles de decisión\n",
        "\n",
        "arbol_decision = tree.DecisionTreeClassifier(criterion=\"entropy\") #creamos el modelo fijando el criterio de entropía.\n",
        "\n",
        "#al momento de crear el árbol, puedo indicar que tantas ramas quiero que me genere el árbol mediante la variable max_depth=´valor´. \n",
        "#En caso de no indicar, va a generar tantas ramas como sean necesarias para mostrar todas las instancias (generaría sobre entrenamiento)\n",
        "\n",
        "arbol = arbol_decision.fit(datos_entrena, clase_entrena) #variable que almacena los datos del entrenamiento\n",
        "\n",
        "accuracy = arbol_decision.score(datos_prueba, clase_prueba) # metrica que evalúa que tan bueno fue nuestro modelo con los datos de prueba\n",
        "\n",
        "print(accuracy)\n",
        "\n",
        "print(tree.export_text(arbol, #exporto a texto nuestro arbol\n",
        "                      feature_names=[\"Edad\", \"Colesterol\"])) #indico las características para que se entienda el árbol.\n",
        "plt.figure(figsize=(12, 6)) \n",
        "tree.plot_tree(arbol, #genero el árbol en gráfica\n",
        "              feature_names=[\"Edad\", \"Colesterol\"]) #tambien es necesario pasarle las caracterísitcas para mejorar la compresión\n",
        "plt.show()"
      ],
      "metadata": {
        "id": "cMfy7wJysBjP"
      },
      "execution_count": null,
      "outputs": []
    },
    {
      "cell_type": "markdown",
      "source": [
        "##Coeficiente de GINI : impureza\n",
        "\n",
        "Metrica que indica la probabilidad de clasificar erroneamente a una observación dado un cierto conjunto de datos.\n",
        "\n",
        "Por cada caracteristica del set de datos, tendremos un coeficiente. Luego debemos saber cual de todas las caracteristicas es mejor para clasificar y cual peor.\n",
        "\n",
        " "
      ],
      "metadata": {
        "id": "Sib42CILwqpu"
      }
    },
    {
      "cell_type": "code",
      "source": [
        "import pandas as pd\n",
        "\n",
        "# Ejemplo de datos de 10 jugadores de basket en su primer año. Toda caracterisitica tiene 2 categorias\n",
        "# alto = promedio de puntos mayor que todos sus compañeros\n",
        "# bajo = promedio de puntos menor que todos sus compañeros\n",
        "# cada registro sigue el orden para cada grupo de datos\n",
        "\n",
        "puntos_partido = pd.Series([\"alto\", \"bajo\", \"alto\", \"alto\", \"alto\",\n",
        "                            \"alto\", \"bajo\", \"alto\", \"alto\", \"bajo\"])\n",
        "\n",
        "minutos_partido = pd.Series([\"alto\", \"alto\", \"bajo\", \"bajo\", \"bajo\",\n",
        "                             \"alto\", \"bajo\", \"bajo\", \"bajo\", \"alto\"])\n",
        "\n",
        "rebotes_partido = pd.Series([\"alto\", \"bajo\", \"bajo\", \"alto\", \"bajo\",\n",
        "                             \"alto\", \"bajo\", \"alto\", \"bajo\", \"alto\"])\n",
        "\n",
        "asistencias_partido = pd.Series([\"bajo\", \"bajo\", \"bajo\", \"bajo\", \"bajo\",\n",
        "                                 \"bajo\", \"bajo\", \"bajo\", \"bajo\", \"bajo\"])\n",
        "\n",
        "# 1: Veterano (carrera de cinco años o más). Queremos saber si el jugador se convertirá en veterano\n",
        "clase = pd.Series([1, 0, 0, 1, 0, 1, 0, 1, 0, 1])\n",
        "\n",
        "datos = pd.DataFrame({\"puntos\": puntos_partido, #DF que agrupa = ´datos´\n",
        "                      \"minutos\": minutos_partido,\n",
        "                      \"asistencias\": asistencias_partido,\n",
        "                      \"rebotes\": rebotes_partido,                      \n",
        "                      \"clase\": clase})\n"
      ],
      "metadata": {
        "id": "G4VgVrZ3w7KG"
      },
      "execution_count": 13,
      "outputs": []
    },
    {
      "cell_type": "markdown",
      "source": [
        "Interpretación de la Impureza GINI"
      ],
      "metadata": {
        "id": "iPrhNSb6xAU0"
      }
    },
    {
      "cell_type": "code",
      "source": [
        "def impureza_gini(caracteristica, clase, datos):  #función recibe los atributos, las clases y el df \n",
        "    \"\"\"str, str, DataFrame -> float\"\"\"    \n",
        "    atributo_clase = datos.groupby([caracteristica, clase])[clase].count()\n",
        "    atributo = datos.groupby([caracteristica])[clase].count()\n",
        "    procesados = pd.merge(atributo_clase, atributo, on=[caracteristica], \n",
        "                          suffixes=('_individual', '_total')) \n",
        "    procesados[\"combinacion\"] = (procesados[clase+\"_individual\"]/\n",
        "                                 procesados[clase+\"_total\"])**2\n",
        "    gini_combinacion = 1 - procesados.groupby([caracteristica, clase+\"_total\"])[\"combinacion\"].sum()\n",
        "    gini_pesado = (gini_combinacion * atributo) / atributo.sum() \n",
        "    return gini_pesado.sum() # obtenemos el coef\n",
        "\n",
        "\n",
        "print(\"puntos -> impureza: %0.4f\" % impureza_gini(\"puntos\", \"clase\", datos))\n",
        "print(\"minutos -> impureza: %0.4f\" % impureza_gini(\"minutos\", \"clase\", datos))\n",
        "print(\"asistencias -> impureza: %0.4f\" % impureza_gini(\"asistencias\", \"clase\", datos))\n",
        "print(\"rebotes -> impureza: %0.4f\" % impureza_gini(\"rebotes\", \"clase\", datos)) \n",
        "\n",
        "datos"
      ],
      "metadata": {
        "colab": {
          "base_uri": "https://localhost:8080/",
          "height": 432
        },
        "id": "CKy8X4F7w9rL",
        "outputId": "5b0a0c08-992e-4b37-8291-958693510252"
      },
      "execution_count": 14,
      "outputs": [
        {
          "output_type": "stream",
          "name": "stdout",
          "text": [
            "puntos -> impureza: 0.4762\n",
            "minutos -> impureza: 0.4167\n",
            "asistencias -> impureza: 0.5000\n",
            "rebotes -> impureza: 0.0000\n"
          ]
        },
        {
          "output_type": "execute_result",
          "data": {
            "text/plain": [
              "  puntos minutos asistencias rebotes  clase\n",
              "0   alto    alto        bajo    alto      1\n",
              "1   bajo    alto        bajo    bajo      0\n",
              "2   alto    bajo        bajo    bajo      0\n",
              "3   alto    bajo        bajo    alto      1\n",
              "4   alto    bajo        bajo    bajo      0\n",
              "5   alto    alto        bajo    alto      1\n",
              "6   bajo    bajo        bajo    bajo      0\n",
              "7   alto    bajo        bajo    alto      1\n",
              "8   alto    bajo        bajo    bajo      0\n",
              "9   bajo    alto        bajo    alto      1"
            ],
            "text/html": [
              "\n",
              "  <div id=\"df-a347e5e4-98c5-4ee2-b45d-19ad56651325\">\n",
              "    <div class=\"colab-df-container\">\n",
              "      <div>\n",
              "<style scoped>\n",
              "    .dataframe tbody tr th:only-of-type {\n",
              "        vertical-align: middle;\n",
              "    }\n",
              "\n",
              "    .dataframe tbody tr th {\n",
              "        vertical-align: top;\n",
              "    }\n",
              "\n",
              "    .dataframe thead th {\n",
              "        text-align: right;\n",
              "    }\n",
              "</style>\n",
              "<table border=\"1\" class=\"dataframe\">\n",
              "  <thead>\n",
              "    <tr style=\"text-align: right;\">\n",
              "      <th></th>\n",
              "      <th>puntos</th>\n",
              "      <th>minutos</th>\n",
              "      <th>asistencias</th>\n",
              "      <th>rebotes</th>\n",
              "      <th>clase</th>\n",
              "    </tr>\n",
              "  </thead>\n",
              "  <tbody>\n",
              "    <tr>\n",
              "      <th>0</th>\n",
              "      <td>alto</td>\n",
              "      <td>alto</td>\n",
              "      <td>bajo</td>\n",
              "      <td>alto</td>\n",
              "      <td>1</td>\n",
              "    </tr>\n",
              "    <tr>\n",
              "      <th>1</th>\n",
              "      <td>bajo</td>\n",
              "      <td>alto</td>\n",
              "      <td>bajo</td>\n",
              "      <td>bajo</td>\n",
              "      <td>0</td>\n",
              "    </tr>\n",
              "    <tr>\n",
              "      <th>2</th>\n",
              "      <td>alto</td>\n",
              "      <td>bajo</td>\n",
              "      <td>bajo</td>\n",
              "      <td>bajo</td>\n",
              "      <td>0</td>\n",
              "    </tr>\n",
              "    <tr>\n",
              "      <th>3</th>\n",
              "      <td>alto</td>\n",
              "      <td>bajo</td>\n",
              "      <td>bajo</td>\n",
              "      <td>alto</td>\n",
              "      <td>1</td>\n",
              "    </tr>\n",
              "    <tr>\n",
              "      <th>4</th>\n",
              "      <td>alto</td>\n",
              "      <td>bajo</td>\n",
              "      <td>bajo</td>\n",
              "      <td>bajo</td>\n",
              "      <td>0</td>\n",
              "    </tr>\n",
              "    <tr>\n",
              "      <th>5</th>\n",
              "      <td>alto</td>\n",
              "      <td>alto</td>\n",
              "      <td>bajo</td>\n",
              "      <td>alto</td>\n",
              "      <td>1</td>\n",
              "    </tr>\n",
              "    <tr>\n",
              "      <th>6</th>\n",
              "      <td>bajo</td>\n",
              "      <td>bajo</td>\n",
              "      <td>bajo</td>\n",
              "      <td>bajo</td>\n",
              "      <td>0</td>\n",
              "    </tr>\n",
              "    <tr>\n",
              "      <th>7</th>\n",
              "      <td>alto</td>\n",
              "      <td>bajo</td>\n",
              "      <td>bajo</td>\n",
              "      <td>alto</td>\n",
              "      <td>1</td>\n",
              "    </tr>\n",
              "    <tr>\n",
              "      <th>8</th>\n",
              "      <td>alto</td>\n",
              "      <td>bajo</td>\n",
              "      <td>bajo</td>\n",
              "      <td>bajo</td>\n",
              "      <td>0</td>\n",
              "    </tr>\n",
              "    <tr>\n",
              "      <th>9</th>\n",
              "      <td>bajo</td>\n",
              "      <td>alto</td>\n",
              "      <td>bajo</td>\n",
              "      <td>alto</td>\n",
              "      <td>1</td>\n",
              "    </tr>\n",
              "  </tbody>\n",
              "</table>\n",
              "</div>\n",
              "      <button class=\"colab-df-convert\" onclick=\"convertToInteractive('df-a347e5e4-98c5-4ee2-b45d-19ad56651325')\"\n",
              "              title=\"Convert this dataframe to an interactive table.\"\n",
              "              style=\"display:none;\">\n",
              "        \n",
              "  <svg xmlns=\"http://www.w3.org/2000/svg\" height=\"24px\"viewBox=\"0 0 24 24\"\n",
              "       width=\"24px\">\n",
              "    <path d=\"M0 0h24v24H0V0z\" fill=\"none\"/>\n",
              "    <path d=\"M18.56 5.44l.94 2.06.94-2.06 2.06-.94-2.06-.94-.94-2.06-.94 2.06-2.06.94zm-11 1L8.5 8.5l.94-2.06 2.06-.94-2.06-.94L8.5 2.5l-.94 2.06-2.06.94zm10 10l.94 2.06.94-2.06 2.06-.94-2.06-.94-.94-2.06-.94 2.06-2.06.94z\"/><path d=\"M17.41 7.96l-1.37-1.37c-.4-.4-.92-.59-1.43-.59-.52 0-1.04.2-1.43.59L10.3 9.45l-7.72 7.72c-.78.78-.78 2.05 0 2.83L4 21.41c.39.39.9.59 1.41.59.51 0 1.02-.2 1.41-.59l7.78-7.78 2.81-2.81c.8-.78.8-2.07 0-2.86zM5.41 20L4 18.59l7.72-7.72 1.47 1.35L5.41 20z\"/>\n",
              "  </svg>\n",
              "      </button>\n",
              "      \n",
              "  <style>\n",
              "    .colab-df-container {\n",
              "      display:flex;\n",
              "      flex-wrap:wrap;\n",
              "      gap: 12px;\n",
              "    }\n",
              "\n",
              "    .colab-df-convert {\n",
              "      background-color: #E8F0FE;\n",
              "      border: none;\n",
              "      border-radius: 50%;\n",
              "      cursor: pointer;\n",
              "      display: none;\n",
              "      fill: #1967D2;\n",
              "      height: 32px;\n",
              "      padding: 0 0 0 0;\n",
              "      width: 32px;\n",
              "    }\n",
              "\n",
              "    .colab-df-convert:hover {\n",
              "      background-color: #E2EBFA;\n",
              "      box-shadow: 0px 1px 2px rgba(60, 64, 67, 0.3), 0px 1px 3px 1px rgba(60, 64, 67, 0.15);\n",
              "      fill: #174EA6;\n",
              "    }\n",
              "\n",
              "    [theme=dark] .colab-df-convert {\n",
              "      background-color: #3B4455;\n",
              "      fill: #D2E3FC;\n",
              "    }\n",
              "\n",
              "    [theme=dark] .colab-df-convert:hover {\n",
              "      background-color: #434B5C;\n",
              "      box-shadow: 0px 1px 3px 1px rgba(0, 0, 0, 0.15);\n",
              "      filter: drop-shadow(0px 1px 2px rgba(0, 0, 0, 0.3));\n",
              "      fill: #FFFFFF;\n",
              "    }\n",
              "  </style>\n",
              "\n",
              "      <script>\n",
              "        const buttonEl =\n",
              "          document.querySelector('#df-a347e5e4-98c5-4ee2-b45d-19ad56651325 button.colab-df-convert');\n",
              "        buttonEl.style.display =\n",
              "          google.colab.kernel.accessAllowed ? 'block' : 'none';\n",
              "\n",
              "        async function convertToInteractive(key) {\n",
              "          const element = document.querySelector('#df-a347e5e4-98c5-4ee2-b45d-19ad56651325');\n",
              "          const dataTable =\n",
              "            await google.colab.kernel.invokeFunction('convertToInteractive',\n",
              "                                                     [key], {});\n",
              "          if (!dataTable) return;\n",
              "\n",
              "          const docLinkHtml = 'Like what you see? Visit the ' +\n",
              "            '<a target=\"_blank\" href=https://colab.research.google.com/notebooks/data_table.ipynb>data table notebook</a>'\n",
              "            + ' to learn more about interactive tables.';\n",
              "          element.innerHTML = '';\n",
              "          dataTable['output_type'] = 'display_data';\n",
              "          await google.colab.output.renderOutput(dataTable, element);\n",
              "          const docLink = document.createElement('div');\n",
              "          docLink.innerHTML = docLinkHtml;\n",
              "          element.appendChild(docLink);\n",
              "        }\n",
              "      </script>\n",
              "    </div>\n",
              "  </div>\n",
              "  "
            ]
          },
          "metadata": {},
          "execution_count": 14
        }
      ]
    },
    {
      "cell_type": "markdown",
      "source": [
        "Cada atributo posee un valor de impuereza y a su vez, todos ellos en función a la clase que me indica si el jugador va a ser veterano o no. \n",
        "\n",
        "Rebotes: es cero, son los mejores clasificadores. Es un clasificador perfecto, es 100% puro. Todo jugador que tenga promedio 'alto' de rebotes va a ser veterano. Si solo uso rebotes, puedo clasificar de manera perfecta a los jugadores.\n",
        "\n",
        "Asistencias: es la mayor, es el valor máxima que se puede tomar de impureza. Los 10 jugadores tienen promedio bajo y tenemos jugadores veteranos y no. No aporta en nada para poder clasificar. Nivel de impureza alto.\n",
        "\n",
        "Puntos y Minutos: tienen un alto nivel, aportarían algo para la clasificación objetivos.\n",
        "\n",
        "Puntos: tienen un nivel alto de impureza, hay jugadores con promedio alto que no llegan a ser veterano y jugadores que también lo tiene y si llegan a ser veteranos.\n",
        "\n",
        "El mejor clasificador son los rebotes, seguido de minutos y luego puntos."
      ],
      "metadata": {
        "id": "noE_nRgcy7du"
      }
    },
    {
      "cell_type": "markdown",
      "source": [
        "**Impureza del atributo 'puntos'**"
      ],
      "metadata": {
        "id": "NZxFWZxAxDGv"
      }
    },
    {
      "cell_type": "code",
      "source": [
        "# Agrupo Cuántos jugadores por categoría de puntos y por clase (novato o veterano) y cuento cada clase.\n",
        "puntos_y_clase = datos.groupby([\"puntos\", \"clase\"])[\"clase\"].count()\n",
        "\n",
        "print(\"\\n\\nJUGADORES POR PUNTOS Y CLASE\\n\\n\", puntos_y_clase)\n",
        "\n",
        "# Agrupo Cuántos jugadores por categoría de puntos y cuento la clase\n",
        "puntos = datos.groupby([\"puntos\"])[\"clase\"].count()\n",
        "\n",
        "print(\"\\n\\nJUGADORES POR PUNTOS\\n\\n\", puntos)\n",
        "\n",
        "# Unir ambas series de datos para procesamiento posterior \n",
        "jugadores = pd.merge(\n",
        "    puntos_y_clase,\n",
        "    puntos,\n",
        "    on=[\"puntos\"], \n",
        "    suffixes=('_indivual', '_total')) \n",
        "\n",
        "print(\"\\n\\nUNION\\n\\n\", jugadores)"
      ],
      "metadata": {
        "colab": {
          "base_uri": "https://localhost:8080/"
        },
        "id": "6GKYwaU6xFnN",
        "outputId": "260a62d0-0b32-4454-af52-f1610e1e34e0"
      },
      "execution_count": 15,
      "outputs": [
        {
          "output_type": "stream",
          "name": "stdout",
          "text": [
            "\n",
            "\n",
            "JUGADORES POR PUNTOS Y CLASE\n",
            "\n",
            " puntos  clase\n",
            "alto    0        3\n",
            "        1        4\n",
            "bajo    0        2\n",
            "        1        1\n",
            "Name: clase, dtype: int64\n",
            "\n",
            "\n",
            "JUGADORES POR PUNTOS\n",
            "\n",
            " puntos\n",
            "alto    7\n",
            "bajo    3\n",
            "Name: clase, dtype: int64\n",
            "\n",
            "\n",
            "UNION\n",
            "\n",
            "         clase_indivual  clase_total\n",
            "puntos                             \n",
            "alto                 3            7\n",
            "alto                 4            7\n",
            "bajo                 2            3\n",
            "bajo                 1            3\n"
          ]
        }
      ]
    },
    {
      "cell_type": "markdown",
      "source": [
        "**Cálculo de la Impureza GINI para 'puntos'**"
      ],
      "metadata": {
        "id": "zk8xTok0xH0o"
      }
    },
    {
      "cell_type": "code",
      "source": [
        "# Probabilidad para cada categoría de puntos con respecto a la clase\n",
        "jugadores[\"combinaciones\"] = (jugadores[\"clase_indivual\"]/jugadores[\"clase_total\"])**2 #elevamos al cuadrado\n",
        "print(jugadores)\n",
        "\n",
        "# Impureza gini para cada combinación\n",
        "gini_por_combinacion = 1 - jugadores.groupby([\"puntos\", \"clase_total\"])[\"combinaciones\"].sum()\n",
        "print(\"\\n\\n\",gini_por_combinacion)\n",
        "\n",
        "# Impureza gini para cada combinación con pesos\n",
        "gini_con_peso_por_combinacion = (gini_por_combinacion * puntos) / puntos.sum() \n",
        "print(\"\\n\\n\", gini_con_peso_por_combinacion)\n",
        "print(\"\\n\", gini_con_peso_por_combinacion.sum()) #impureza de ´puntos´"
      ],
      "metadata": {
        "colab": {
          "base_uri": "https://localhost:8080/"
        },
        "id": "g8GrqW__xJyO",
        "outputId": "19f49a21-135e-48d8-84e5-15d52c5d2038"
      },
      "execution_count": 12,
      "outputs": [
        {
          "output_type": "stream",
          "name": "stdout",
          "text": [
            "        clase_indivual  clase_total  combinaciones\n",
            "puntos                                            \n",
            "alto                 3            7       0.183673\n",
            "alto                 4            7       0.326531\n",
            "bajo                 2            3       0.444444\n",
            "bajo                 1            3       0.111111\n",
            "\n",
            "\n",
            " puntos  clase_total\n",
            "alto    7              0.489796\n",
            "bajo    3              0.444444\n",
            "Name: combinaciones, dtype: float64\n",
            "\n",
            "\n",
            " puntos  clase_total\n",
            "alto    7              0.342857\n",
            "bajo    3              0.133333\n",
            "dtype: float64\n",
            "\n",
            " 0.4761904761904763\n"
          ]
        }
      ]
    }
  ]
}